{
  "nbformat": 4,
  "nbformat_minor": 0,
  "metadata": {
    "colab": {
      "name": "Data Science Projeto 1.ipynb",
      "provenance": [],
      "collapsed_sections": [
        "w368eq74RjWv",
        "Ef18_GvGRXf2",
        "usexrrxERuu1",
        "KZoOgCWfTl5f",
        "NuauYiX62QzC",
        "fyuIrv-EWkyX",
        "f9X1TO8sE_Vc",
        "qFdzDSAcFHxL",
        "ybzYXxChWoGC",
        "YzAfEIsxWu3i",
        "43pcxLxnr5os",
        "6fscmj_TsASX",
        "tqF4dN-WsFff",
        "jHQAKkTQsaMf"
      ],
      "toc_visible": true,
      "authorship_tag": "ABX9TyNoF4CKuuGfUJT//K0Eg47I",
      "include_colab_link": true
    },
    "kernelspec": {
      "name": "python3",
      "display_name": "Python 3"
    },
    "language_info": {
      "name": "python"
    }
  },
  "cells": [
    {
      "cell_type": "markdown",
      "metadata": {
        "id": "view-in-github",
        "colab_type": "text"
      },
      "source": [
        "<a href=\"https://colab.research.google.com/github/PAndersonSB/Projeto-1-Datascience/blob/main/Data_Science_Projeto_1.ipynb\" target=\"_parent\"><img src=\"https://colab.research.google.com/assets/colab-badge.svg\" alt=\"Open In Colab\"/></a>"
      ]
    },
    {
      "cell_type": "markdown",
      "source": [
        "#Fonte"
      ],
      "metadata": {
        "id": "w368eq74RjWv"
      }
    },
    {
      "cell_type": "markdown",
      "source": [
        "https://www.kaggle.com/datasets/hellbuoy/car-price-prediction"
      ],
      "metadata": {
        "id": "uMLzDhzZRVbP"
      }
    },
    {
      "cell_type": "markdown",
      "source": [
        "# Problema"
      ],
      "metadata": {
        "id": "Ef18_GvGRXf2"
      }
    },
    {
      "cell_type": "markdown",
      "source": [
        "A empresa automobilística chinesa Geely Auto aspira a entrar no mercado dos EUA estabelecendo sua unidade de fabricação lá e produzindo carros localmente para competir com seus colegas americanos e europeus.\n",
        "\n",
        "Eles contrataram uma empresa de consultoria automobilística para entender os fatores dos quais depende o preço dos carros. Especificamente, eles querem entender os fatores que afetam os preços dos carros no mercado americano, pois podem ser muito diferentes do mercado chinês. A empresa quer saber:\n",
        "\n",
        "Quais variáveis são significativas na previsão do preço de um carro\n",
        "Quão bem essas variáveis descrevem o preço de um carro\n",
        "Com base em várias pesquisas de mercado, a empresa de consultoria reuniu um grande conjunto de dados de diferentes tipos de carros em todo o mercado americano."
      ],
      "metadata": {
        "id": "Z7NpD10FRbUV"
      }
    },
    {
      "cell_type": "markdown",
      "source": [
        "#Objetivo de Negócios"
      ],
      "metadata": {
        "id": "usexrrxERuu1"
      }
    },
    {
      "cell_type": "markdown",
      "source": [
        "Somos obrigados a modelar o preço dos carros com as variáveis independentes disponíveis. Ele será usado pela administração para entender exatamente como os preços variam com as variáveis independentes. Eles podem manipular o design dos carros, a estratégia de negócios etc. para atender a determinados níveis de preços. Além disso, o modelo será uma boa maneira de a administração entender a dinâmica de preços de um novo mercado."
      ],
      "metadata": {
        "id": "UrSPwsA8RwD7"
      }
    },
    {
      "cell_type": "markdown",
      "source": [
        "#Conhecendo os dados"
      ],
      "metadata": {
        "id": "KZoOgCWfTl5f"
      }
    },
    {
      "cell_type": "markdown",
      "source": [
        "importando bibliotecas"
      ],
      "metadata": {
        "id": "ogDXt5CUTjn8"
      }
    },
    {
      "cell_type": "code",
      "execution_count": null,
      "metadata": {
        "id": "M1r0xRvGTcoj"
      },
      "outputs": [],
      "source": [
        "import numpy as np\n",
        "import pandas as pd\n",
        "import matplotlib.pyplot as plt\n",
        "import seaborn as sns"
      ]
    },
    {
      "cell_type": "code",
      "source": [
        "from google.colab import drive\n",
        "drive.mount('/content/drive')\n",
        "pasta = \"/content/drive/My Drive/Colab Notebooks/Projeto 1/\"\n",
        "nome_arquivo_dados = \"CarPrice_Assignment.csv\"\n",
        "dados = pd.read_csv(pasta + nome_arquivo_dados ,delimiter=',')"
      ],
      "metadata": {
        "colab": {
          "base_uri": "https://localhost:8080/"
        },
        "id": "utoo6kLTDKGH",
        "outputId": "81721016-e1b6-4aff-f140-21067f095cf5"
      },
      "execution_count": null,
      "outputs": [
        {
          "output_type": "stream",
          "name": "stdout",
          "text": [
            "Drive already mounted at /content/drive; to attempt to forcibly remount, call drive.mount(\"/content/drive\", force_remount=True).\n"
          ]
        }
      ]
    },
    {
      "cell_type": "code",
      "source": [
        "dados.head(10)"
      ],
      "metadata": {
        "colab": {
          "base_uri": "https://localhost:8080/",
          "height": 526
        },
        "id": "PgP9JhMSEJhG",
        "outputId": "03517b28-a553-446c-a2a0-bd48246cc10a"
      },
      "execution_count": null,
      "outputs": [
        {
          "output_type": "execute_result",
          "data": {
            "text/plain": [
              "   car_ID  symboling                   CarName fueltype aspiration doornumber  \\\n",
              "0       1          3        alfa-romero giulia      gas        std        two   \n",
              "1       2          3       alfa-romero stelvio      gas        std        two   \n",
              "2       3          1  alfa-romero Quadrifoglio      gas        std        two   \n",
              "3       4          2               audi 100 ls      gas        std       four   \n",
              "4       5          2                audi 100ls      gas        std       four   \n",
              "5       6          2                  audi fox      gas        std        two   \n",
              "6       7          1                audi 100ls      gas        std       four   \n",
              "7       8          1                 audi 5000      gas        std       four   \n",
              "8       9          1                 audi 4000      gas      turbo       four   \n",
              "9      10          0       audi 5000s (diesel)      gas      turbo        two   \n",
              "\n",
              "       carbody drivewheel enginelocation  wheelbase  ...  enginesize  \\\n",
              "0  convertible        rwd          front       88.6  ...         130   \n",
              "1  convertible        rwd          front       88.6  ...         130   \n",
              "2    hatchback        rwd          front       94.5  ...         152   \n",
              "3        sedan        fwd          front       99.8  ...         109   \n",
              "4        sedan        4wd          front       99.4  ...         136   \n",
              "5        sedan        fwd          front       99.8  ...         136   \n",
              "6        sedan        fwd          front      105.8  ...         136   \n",
              "7        wagon        fwd          front      105.8  ...         136   \n",
              "8        sedan        fwd          front      105.8  ...         131   \n",
              "9    hatchback        4wd          front       99.5  ...         131   \n",
              "\n",
              "   fuelsystem  boreratio  stroke compressionratio horsepower  peakrpm citympg  \\\n",
              "0        mpfi       3.47    2.68              9.0        111     5000      21   \n",
              "1        mpfi       3.47    2.68              9.0        111     5000      21   \n",
              "2        mpfi       2.68    3.47              9.0        154     5000      19   \n",
              "3        mpfi       3.19    3.40             10.0        102     5500      24   \n",
              "4        mpfi       3.19    3.40              8.0        115     5500      18   \n",
              "5        mpfi       3.19    3.40              8.5        110     5500      19   \n",
              "6        mpfi       3.19    3.40              8.5        110     5500      19   \n",
              "7        mpfi       3.19    3.40              8.5        110     5500      19   \n",
              "8        mpfi       3.13    3.40              8.3        140     5500      17   \n",
              "9        mpfi       3.13    3.40              7.0        160     5500      16   \n",
              "\n",
              "   highwaympg      price  \n",
              "0          27  13495.000  \n",
              "1          27  16500.000  \n",
              "2          26  16500.000  \n",
              "3          30  13950.000  \n",
              "4          22  17450.000  \n",
              "5          25  15250.000  \n",
              "6          25  17710.000  \n",
              "7          25  18920.000  \n",
              "8          20  23875.000  \n",
              "9          22  17859.167  \n",
              "\n",
              "[10 rows x 26 columns]"
            ],
            "text/html": [
              "\n",
              "  <div id=\"df-27f453d0-7163-4bf8-af88-acb646f5249a\">\n",
              "    <div class=\"colab-df-container\">\n",
              "      <div>\n",
              "<style scoped>\n",
              "    .dataframe tbody tr th:only-of-type {\n",
              "        vertical-align: middle;\n",
              "    }\n",
              "\n",
              "    .dataframe tbody tr th {\n",
              "        vertical-align: top;\n",
              "    }\n",
              "\n",
              "    .dataframe thead th {\n",
              "        text-align: right;\n",
              "    }\n",
              "</style>\n",
              "<table border=\"1\" class=\"dataframe\">\n",
              "  <thead>\n",
              "    <tr style=\"text-align: right;\">\n",
              "      <th></th>\n",
              "      <th>car_ID</th>\n",
              "      <th>symboling</th>\n",
              "      <th>CarName</th>\n",
              "      <th>fueltype</th>\n",
              "      <th>aspiration</th>\n",
              "      <th>doornumber</th>\n",
              "      <th>carbody</th>\n",
              "      <th>drivewheel</th>\n",
              "      <th>enginelocation</th>\n",
              "      <th>wheelbase</th>\n",
              "      <th>...</th>\n",
              "      <th>enginesize</th>\n",
              "      <th>fuelsystem</th>\n",
              "      <th>boreratio</th>\n",
              "      <th>stroke</th>\n",
              "      <th>compressionratio</th>\n",
              "      <th>horsepower</th>\n",
              "      <th>peakrpm</th>\n",
              "      <th>citympg</th>\n",
              "      <th>highwaympg</th>\n",
              "      <th>price</th>\n",
              "    </tr>\n",
              "  </thead>\n",
              "  <tbody>\n",
              "    <tr>\n",
              "      <th>0</th>\n",
              "      <td>1</td>\n",
              "      <td>3</td>\n",
              "      <td>alfa-romero giulia</td>\n",
              "      <td>gas</td>\n",
              "      <td>std</td>\n",
              "      <td>two</td>\n",
              "      <td>convertible</td>\n",
              "      <td>rwd</td>\n",
              "      <td>front</td>\n",
              "      <td>88.6</td>\n",
              "      <td>...</td>\n",
              "      <td>130</td>\n",
              "      <td>mpfi</td>\n",
              "      <td>3.47</td>\n",
              "      <td>2.68</td>\n",
              "      <td>9.0</td>\n",
              "      <td>111</td>\n",
              "      <td>5000</td>\n",
              "      <td>21</td>\n",
              "      <td>27</td>\n",
              "      <td>13495.000</td>\n",
              "    </tr>\n",
              "    <tr>\n",
              "      <th>1</th>\n",
              "      <td>2</td>\n",
              "      <td>3</td>\n",
              "      <td>alfa-romero stelvio</td>\n",
              "      <td>gas</td>\n",
              "      <td>std</td>\n",
              "      <td>two</td>\n",
              "      <td>convertible</td>\n",
              "      <td>rwd</td>\n",
              "      <td>front</td>\n",
              "      <td>88.6</td>\n",
              "      <td>...</td>\n",
              "      <td>130</td>\n",
              "      <td>mpfi</td>\n",
              "      <td>3.47</td>\n",
              "      <td>2.68</td>\n",
              "      <td>9.0</td>\n",
              "      <td>111</td>\n",
              "      <td>5000</td>\n",
              "      <td>21</td>\n",
              "      <td>27</td>\n",
              "      <td>16500.000</td>\n",
              "    </tr>\n",
              "    <tr>\n",
              "      <th>2</th>\n",
              "      <td>3</td>\n",
              "      <td>1</td>\n",
              "      <td>alfa-romero Quadrifoglio</td>\n",
              "      <td>gas</td>\n",
              "      <td>std</td>\n",
              "      <td>two</td>\n",
              "      <td>hatchback</td>\n",
              "      <td>rwd</td>\n",
              "      <td>front</td>\n",
              "      <td>94.5</td>\n",
              "      <td>...</td>\n",
              "      <td>152</td>\n",
              "      <td>mpfi</td>\n",
              "      <td>2.68</td>\n",
              "      <td>3.47</td>\n",
              "      <td>9.0</td>\n",
              "      <td>154</td>\n",
              "      <td>5000</td>\n",
              "      <td>19</td>\n",
              "      <td>26</td>\n",
              "      <td>16500.000</td>\n",
              "    </tr>\n",
              "    <tr>\n",
              "      <th>3</th>\n",
              "      <td>4</td>\n",
              "      <td>2</td>\n",
              "      <td>audi 100 ls</td>\n",
              "      <td>gas</td>\n",
              "      <td>std</td>\n",
              "      <td>four</td>\n",
              "      <td>sedan</td>\n",
              "      <td>fwd</td>\n",
              "      <td>front</td>\n",
              "      <td>99.8</td>\n",
              "      <td>...</td>\n",
              "      <td>109</td>\n",
              "      <td>mpfi</td>\n",
              "      <td>3.19</td>\n",
              "      <td>3.40</td>\n",
              "      <td>10.0</td>\n",
              "      <td>102</td>\n",
              "      <td>5500</td>\n",
              "      <td>24</td>\n",
              "      <td>30</td>\n",
              "      <td>13950.000</td>\n",
              "    </tr>\n",
              "    <tr>\n",
              "      <th>4</th>\n",
              "      <td>5</td>\n",
              "      <td>2</td>\n",
              "      <td>audi 100ls</td>\n",
              "      <td>gas</td>\n",
              "      <td>std</td>\n",
              "      <td>four</td>\n",
              "      <td>sedan</td>\n",
              "      <td>4wd</td>\n",
              "      <td>front</td>\n",
              "      <td>99.4</td>\n",
              "      <td>...</td>\n",
              "      <td>136</td>\n",
              "      <td>mpfi</td>\n",
              "      <td>3.19</td>\n",
              "      <td>3.40</td>\n",
              "      <td>8.0</td>\n",
              "      <td>115</td>\n",
              "      <td>5500</td>\n",
              "      <td>18</td>\n",
              "      <td>22</td>\n",
              "      <td>17450.000</td>\n",
              "    </tr>\n",
              "    <tr>\n",
              "      <th>5</th>\n",
              "      <td>6</td>\n",
              "      <td>2</td>\n",
              "      <td>audi fox</td>\n",
              "      <td>gas</td>\n",
              "      <td>std</td>\n",
              "      <td>two</td>\n",
              "      <td>sedan</td>\n",
              "      <td>fwd</td>\n",
              "      <td>front</td>\n",
              "      <td>99.8</td>\n",
              "      <td>...</td>\n",
              "      <td>136</td>\n",
              "      <td>mpfi</td>\n",
              "      <td>3.19</td>\n",
              "      <td>3.40</td>\n",
              "      <td>8.5</td>\n",
              "      <td>110</td>\n",
              "      <td>5500</td>\n",
              "      <td>19</td>\n",
              "      <td>25</td>\n",
              "      <td>15250.000</td>\n",
              "    </tr>\n",
              "    <tr>\n",
              "      <th>6</th>\n",
              "      <td>7</td>\n",
              "      <td>1</td>\n",
              "      <td>audi 100ls</td>\n",
              "      <td>gas</td>\n",
              "      <td>std</td>\n",
              "      <td>four</td>\n",
              "      <td>sedan</td>\n",
              "      <td>fwd</td>\n",
              "      <td>front</td>\n",
              "      <td>105.8</td>\n",
              "      <td>...</td>\n",
              "      <td>136</td>\n",
              "      <td>mpfi</td>\n",
              "      <td>3.19</td>\n",
              "      <td>3.40</td>\n",
              "      <td>8.5</td>\n",
              "      <td>110</td>\n",
              "      <td>5500</td>\n",
              "      <td>19</td>\n",
              "      <td>25</td>\n",
              "      <td>17710.000</td>\n",
              "    </tr>\n",
              "    <tr>\n",
              "      <th>7</th>\n",
              "      <td>8</td>\n",
              "      <td>1</td>\n",
              "      <td>audi 5000</td>\n",
              "      <td>gas</td>\n",
              "      <td>std</td>\n",
              "      <td>four</td>\n",
              "      <td>wagon</td>\n",
              "      <td>fwd</td>\n",
              "      <td>front</td>\n",
              "      <td>105.8</td>\n",
              "      <td>...</td>\n",
              "      <td>136</td>\n",
              "      <td>mpfi</td>\n",
              "      <td>3.19</td>\n",
              "      <td>3.40</td>\n",
              "      <td>8.5</td>\n",
              "      <td>110</td>\n",
              "      <td>5500</td>\n",
              "      <td>19</td>\n",
              "      <td>25</td>\n",
              "      <td>18920.000</td>\n",
              "    </tr>\n",
              "    <tr>\n",
              "      <th>8</th>\n",
              "      <td>9</td>\n",
              "      <td>1</td>\n",
              "      <td>audi 4000</td>\n",
              "      <td>gas</td>\n",
              "      <td>turbo</td>\n",
              "      <td>four</td>\n",
              "      <td>sedan</td>\n",
              "      <td>fwd</td>\n",
              "      <td>front</td>\n",
              "      <td>105.8</td>\n",
              "      <td>...</td>\n",
              "      <td>131</td>\n",
              "      <td>mpfi</td>\n",
              "      <td>3.13</td>\n",
              "      <td>3.40</td>\n",
              "      <td>8.3</td>\n",
              "      <td>140</td>\n",
              "      <td>5500</td>\n",
              "      <td>17</td>\n",
              "      <td>20</td>\n",
              "      <td>23875.000</td>\n",
              "    </tr>\n",
              "    <tr>\n",
              "      <th>9</th>\n",
              "      <td>10</td>\n",
              "      <td>0</td>\n",
              "      <td>audi 5000s (diesel)</td>\n",
              "      <td>gas</td>\n",
              "      <td>turbo</td>\n",
              "      <td>two</td>\n",
              "      <td>hatchback</td>\n",
              "      <td>4wd</td>\n",
              "      <td>front</td>\n",
              "      <td>99.5</td>\n",
              "      <td>...</td>\n",
              "      <td>131</td>\n",
              "      <td>mpfi</td>\n",
              "      <td>3.13</td>\n",
              "      <td>3.40</td>\n",
              "      <td>7.0</td>\n",
              "      <td>160</td>\n",
              "      <td>5500</td>\n",
              "      <td>16</td>\n",
              "      <td>22</td>\n",
              "      <td>17859.167</td>\n",
              "    </tr>\n",
              "  </tbody>\n",
              "</table>\n",
              "<p>10 rows × 26 columns</p>\n",
              "</div>\n",
              "      <button class=\"colab-df-convert\" onclick=\"convertToInteractive('df-27f453d0-7163-4bf8-af88-acb646f5249a')\"\n",
              "              title=\"Convert this dataframe to an interactive table.\"\n",
              "              style=\"display:none;\">\n",
              "        \n",
              "  <svg xmlns=\"http://www.w3.org/2000/svg\" height=\"24px\"viewBox=\"0 0 24 24\"\n",
              "       width=\"24px\">\n",
              "    <path d=\"M0 0h24v24H0V0z\" fill=\"none\"/>\n",
              "    <path d=\"M18.56 5.44l.94 2.06.94-2.06 2.06-.94-2.06-.94-.94-2.06-.94 2.06-2.06.94zm-11 1L8.5 8.5l.94-2.06 2.06-.94-2.06-.94L8.5 2.5l-.94 2.06-2.06.94zm10 10l.94 2.06.94-2.06 2.06-.94-2.06-.94-.94-2.06-.94 2.06-2.06.94z\"/><path d=\"M17.41 7.96l-1.37-1.37c-.4-.4-.92-.59-1.43-.59-.52 0-1.04.2-1.43.59L10.3 9.45l-7.72 7.72c-.78.78-.78 2.05 0 2.83L4 21.41c.39.39.9.59 1.41.59.51 0 1.02-.2 1.41-.59l7.78-7.78 2.81-2.81c.8-.78.8-2.07 0-2.86zM5.41 20L4 18.59l7.72-7.72 1.47 1.35L5.41 20z\"/>\n",
              "  </svg>\n",
              "      </button>\n",
              "      \n",
              "  <style>\n",
              "    .colab-df-container {\n",
              "      display:flex;\n",
              "      flex-wrap:wrap;\n",
              "      gap: 12px;\n",
              "    }\n",
              "\n",
              "    .colab-df-convert {\n",
              "      background-color: #E8F0FE;\n",
              "      border: none;\n",
              "      border-radius: 50%;\n",
              "      cursor: pointer;\n",
              "      display: none;\n",
              "      fill: #1967D2;\n",
              "      height: 32px;\n",
              "      padding: 0 0 0 0;\n",
              "      width: 32px;\n",
              "    }\n",
              "\n",
              "    .colab-df-convert:hover {\n",
              "      background-color: #E2EBFA;\n",
              "      box-shadow: 0px 1px 2px rgba(60, 64, 67, 0.3), 0px 1px 3px 1px rgba(60, 64, 67, 0.15);\n",
              "      fill: #174EA6;\n",
              "    }\n",
              "\n",
              "    [theme=dark] .colab-df-convert {\n",
              "      background-color: #3B4455;\n",
              "      fill: #D2E3FC;\n",
              "    }\n",
              "\n",
              "    [theme=dark] .colab-df-convert:hover {\n",
              "      background-color: #434B5C;\n",
              "      box-shadow: 0px 1px 3px 1px rgba(0, 0, 0, 0.15);\n",
              "      filter: drop-shadow(0px 1px 2px rgba(0, 0, 0, 0.3));\n",
              "      fill: #FFFFFF;\n",
              "    }\n",
              "  </style>\n",
              "\n",
              "      <script>\n",
              "        const buttonEl =\n",
              "          document.querySelector('#df-27f453d0-7163-4bf8-af88-acb646f5249a button.colab-df-convert');\n",
              "        buttonEl.style.display =\n",
              "          google.colab.kernel.accessAllowed ? 'block' : 'none';\n",
              "\n",
              "        async function convertToInteractive(key) {\n",
              "          const element = document.querySelector('#df-27f453d0-7163-4bf8-af88-acb646f5249a');\n",
              "          const dataTable =\n",
              "            await google.colab.kernel.invokeFunction('convertToInteractive',\n",
              "                                                     [key], {});\n",
              "          if (!dataTable) return;\n",
              "\n",
              "          const docLinkHtml = 'Like what you see? Visit the ' +\n",
              "            '<a target=\"_blank\" href=https://colab.research.google.com/notebooks/data_table.ipynb>data table notebook</a>'\n",
              "            + ' to learn more about interactive tables.';\n",
              "          element.innerHTML = '';\n",
              "          dataTable['output_type'] = 'display_data';\n",
              "          await google.colab.output.renderOutput(dataTable, element);\n",
              "          const docLink = document.createElement('div');\n",
              "          docLink.innerHTML = docLinkHtml;\n",
              "          element.appendChild(docLink);\n",
              "        }\n",
              "      </script>\n",
              "    </div>\n",
              "  </div>\n",
              "  "
            ]
          },
          "metadata": {},
          "execution_count": 5
        }
      ]
    },
    {
      "cell_type": "markdown",
      "source": [
        "![Screenshot_79.png](data:image/png;base64,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)"
      ],
      "metadata": {
        "id": "w1B5eqHUEZTh"
      }
    },
    {
      "cell_type": "code",
      "source": [
        "dados.info()"
      ],
      "metadata": {
        "colab": {
          "base_uri": "https://localhost:8080/"
        },
        "id": "XeYdG_suEKPy",
        "outputId": "6f04313e-a8dc-4329-92a9-159da10f94d2"
      },
      "execution_count": null,
      "outputs": [
        {
          "output_type": "stream",
          "name": "stdout",
          "text": [
            "<class 'pandas.core.frame.DataFrame'>\n",
            "RangeIndex: 205 entries, 0 to 204\n",
            "Data columns (total 26 columns):\n",
            " #   Column            Non-Null Count  Dtype  \n",
            "---  ------            --------------  -----  \n",
            " 0   car_ID            205 non-null    int64  \n",
            " 1   symboling         205 non-null    int64  \n",
            " 2   CarName           205 non-null    object \n",
            " 3   fueltype          205 non-null    object \n",
            " 4   aspiration        205 non-null    object \n",
            " 5   doornumber        205 non-null    object \n",
            " 6   carbody           205 non-null    object \n",
            " 7   drivewheel        205 non-null    object \n",
            " 8   enginelocation    205 non-null    object \n",
            " 9   wheelbase         205 non-null    float64\n",
            " 10  carlength         205 non-null    float64\n",
            " 11  carwidth          205 non-null    float64\n",
            " 12  carheight         205 non-null    float64\n",
            " 13  curbweight        205 non-null    int64  \n",
            " 14  enginetype        205 non-null    object \n",
            " 15  cylindernumber    205 non-null    object \n",
            " 16  enginesize        205 non-null    int64  \n",
            " 17  fuelsystem        205 non-null    object \n",
            " 18  boreratio         205 non-null    float64\n",
            " 19  stroke            205 non-null    float64\n",
            " 20  compressionratio  205 non-null    float64\n",
            " 21  horsepower        205 non-null    int64  \n",
            " 22  peakrpm           205 non-null    int64  \n",
            " 23  citympg           205 non-null    int64  \n",
            " 24  highwaympg        205 non-null    int64  \n",
            " 25  price             205 non-null    float64\n",
            "dtypes: float64(8), int64(8), object(10)\n",
            "memory usage: 41.8+ KB\n"
          ]
        }
      ]
    },
    {
      "cell_type": "markdown",
      "source": [
        "nenhum valor nulo em todas as colunas"
      ],
      "metadata": {
        "id": "Q09mj6DsyZ3S"
      }
    },
    {
      "cell_type": "code",
      "source": [
        "dados.dtypes.unique()"
      ],
      "metadata": {
        "colab": {
          "base_uri": "https://localhost:8080/"
        },
        "id": "9mKcr4GcznNe",
        "outputId": "162359d4-75e0-4a31-d5ed-5a0e8f408541"
      },
      "execution_count": null,
      "outputs": [
        {
          "output_type": "execute_result",
          "data": {
            "text/plain": [
              "array([dtype('int64'), dtype('O'), dtype('float64')], dtype=object)"
            ]
          },
          "metadata": {},
          "execution_count": 15
        }
      ]
    },
    {
      "cell_type": "markdown",
      "source": [
        "tipos de dados no dataset : inteiro , real e objeto(texto)"
      ],
      "metadata": {
        "id": "c1JSCQWXzzyx"
      }
    },
    {
      "cell_type": "code",
      "source": [
        "dados.shape"
      ],
      "metadata": {
        "colab": {
          "base_uri": "https://localhost:8080/"
        },
        "id": "GvSR3IKuzX-g",
        "outputId": "ca17e325-98af-4f54-9cad-2b94ccabdb6d"
      },
      "execution_count": null,
      "outputs": [
        {
          "output_type": "execute_result",
          "data": {
            "text/plain": [
              "(205, 26)"
            ]
          },
          "metadata": {},
          "execution_count": 8
        }
      ]
    },
    {
      "cell_type": "markdown",
      "source": [
        "205 linhas e 26 colunas"
      ],
      "metadata": {
        "id": "WKz6YZlQzdcR"
      }
    },
    {
      "cell_type": "code",
      "source": [
        "dados.columns"
      ],
      "metadata": {
        "colab": {
          "base_uri": "https://localhost:8080/"
        },
        "id": "bJCsFZ0NEnMz",
        "outputId": "35ffe9bc-71b6-44af-f3a6-12c639e894d0"
      },
      "execution_count": null,
      "outputs": [
        {
          "output_type": "execute_result",
          "data": {
            "text/plain": [
              "Index(['car_ID', 'symboling', 'CarName', 'fueltype', 'aspiration',\n",
              "       'doornumber', 'carbody', 'drivewheel', 'enginelocation', 'wheelbase',\n",
              "       'carlength', 'carwidth', 'carheight', 'curbweight', 'enginetype',\n",
              "       'cylindernumber', 'enginesize', 'fuelsystem', 'boreratio', 'stroke',\n",
              "       'compressionratio', 'horsepower', 'peakrpm', 'citympg', 'highwaympg',\n",
              "       'price'],\n",
              "      dtype='object')"
            ]
          },
          "metadata": {},
          "execution_count": 131
        }
      ]
    },
    {
      "cell_type": "code",
      "source": [
        "for c in list(dados.columns): #todas as colunas\n",
        "  print(c)\n",
        "  print(dados[c].unique())\n",
        "  print('\\n')"
      ],
      "metadata": {
        "colab": {
          "base_uri": "https://localhost:8080/"
        },
        "id": "Ocn1AwfFykLd",
        "outputId": "aeab9788-6a97-4883-e72e-cf2d6239e96d"
      },
      "execution_count": null,
      "outputs": [
        {
          "output_type": "stream",
          "name": "stdout",
          "text": [
            "car_ID\n",
            "[  1   2   3   4   5   6   7   8   9  10  11  12  13  14  15  16  17  18\n",
            "  19  20  21  22  23  24  25  26  27  28  29  30  31  32  33  34  35  36\n",
            "  37  38  39  40  41  42  43  44  45  46  47  48  49  50  51  52  53  54\n",
            "  55  56  57  58  59  60  61  62  63  64  65  66  67  68  69  70  71  72\n",
            "  73  74  75  76  77  78  79  80  81  82  83  84  85  86  87  88  89  90\n",
            "  91  92  93  94  95  96  97  98  99 100 101 102 103 104 105 106 107 108\n",
            " 109 110 111 112 113 114 115 116 117 118 119 120 121 122 123 124 125 126\n",
            " 127 128 129 130 131 132 133 134 135 136 137 138 139 140 141 142 143 144\n",
            " 145 146 147 148 149 150 151 152 153 154 155 156 157 158 159 160 161 162\n",
            " 163 164 165 166 167 168 169 170 171 172 173 174 175 176 177 178 179 180\n",
            " 181 182 183 184 185 186 187 188 189 190 191 192 193 194 195 196 197 198\n",
            " 199 200 201 202 203 204 205]\n",
            "\n",
            "\n",
            "symboling\n",
            "[ 3  1  2  0 -1 -2]\n",
            "\n",
            "\n",
            "CarName\n",
            "['alfa-romero giulia' 'alfa-romero stelvio' 'alfa-romero Quadrifoglio'\n",
            " 'audi 100 ls' 'audi 100ls' 'audi fox' 'audi 5000' 'audi 4000'\n",
            " 'audi 5000s (diesel)' 'bmw 320i' 'bmw x1' 'bmw x3' 'bmw z4' 'bmw x4'\n",
            " 'bmw x5' 'chevrolet impala' 'chevrolet monte carlo' 'chevrolet vega 2300'\n",
            " 'dodge rampage' 'dodge challenger se' 'dodge d200' 'dodge monaco (sw)'\n",
            " 'dodge colt hardtop' 'dodge colt (sw)' 'dodge coronet custom'\n",
            " 'dodge dart custom' 'dodge coronet custom (sw)' 'honda civic'\n",
            " 'honda civic cvcc' 'honda accord cvcc' 'honda accord lx'\n",
            " 'honda civic 1500 gl' 'honda accord' 'honda civic 1300' 'honda prelude'\n",
            " 'honda civic (auto)' 'isuzu MU-X' 'isuzu D-Max ' 'isuzu D-Max V-Cross'\n",
            " 'jaguar xj' 'jaguar xf' 'jaguar xk' 'maxda rx3' 'maxda glc deluxe'\n",
            " 'mazda rx2 coupe' 'mazda rx-4' 'mazda glc deluxe' 'mazda 626' 'mazda glc'\n",
            " 'mazda rx-7 gs' 'mazda glc 4' 'mazda glc custom l' 'mazda glc custom'\n",
            " 'buick electra 225 custom' 'buick century luxus (sw)' 'buick century'\n",
            " 'buick skyhawk' 'buick opel isuzu deluxe' 'buick skylark'\n",
            " 'buick century special' 'buick regal sport coupe (turbo)'\n",
            " 'mercury cougar' 'mitsubishi mirage' 'mitsubishi lancer'\n",
            " 'mitsubishi outlander' 'mitsubishi g4' 'mitsubishi mirage g4'\n",
            " 'mitsubishi montero' 'mitsubishi pajero' 'Nissan versa' 'nissan gt-r'\n",
            " 'nissan rogue' 'nissan latio' 'nissan titan' 'nissan leaf' 'nissan juke'\n",
            " 'nissan note' 'nissan clipper' 'nissan nv200' 'nissan dayz' 'nissan fuga'\n",
            " 'nissan otti' 'nissan teana' 'nissan kicks' 'peugeot 504' 'peugeot 304'\n",
            " 'peugeot 504 (sw)' 'peugeot 604sl' 'peugeot 505s turbo diesel'\n",
            " 'plymouth fury iii' 'plymouth cricket' 'plymouth satellite custom (sw)'\n",
            " 'plymouth fury gran sedan' 'plymouth valiant' 'plymouth duster'\n",
            " 'porsche macan' 'porcshce panamera' 'porsche cayenne' 'porsche boxter'\n",
            " 'renault 12tl' 'renault 5 gtl' 'saab 99e' 'saab 99le' 'saab 99gle'\n",
            " 'subaru' 'subaru dl' 'subaru brz' 'subaru baja' 'subaru r1' 'subaru r2'\n",
            " 'subaru trezia' 'subaru tribeca' 'toyota corona mark ii' 'toyota corona'\n",
            " 'toyota corolla 1200' 'toyota corona hardtop' 'toyota corolla 1600 (sw)'\n",
            " 'toyota carina' 'toyota mark ii' 'toyota corolla'\n",
            " 'toyota corolla liftback' 'toyota celica gt liftback'\n",
            " 'toyota corolla tercel' 'toyota corona liftback' 'toyota starlet'\n",
            " 'toyota tercel' 'toyota cressida' 'toyota celica gt' 'toyouta tercel'\n",
            " 'vokswagen rabbit' 'volkswagen 1131 deluxe sedan' 'volkswagen model 111'\n",
            " 'volkswagen type 3' 'volkswagen 411 (sw)' 'volkswagen super beetle'\n",
            " 'volkswagen dasher' 'vw dasher' 'vw rabbit' 'volkswagen rabbit'\n",
            " 'volkswagen rabbit custom' 'volvo 145e (sw)' 'volvo 144ea' 'volvo 244dl'\n",
            " 'volvo 245' 'volvo 264gl' 'volvo diesel' 'volvo 246']\n",
            "\n",
            "\n",
            "fueltype\n",
            "['gas' 'diesel']\n",
            "\n",
            "\n",
            "aspiration\n",
            "['std' 'turbo']\n",
            "\n",
            "\n",
            "doornumber\n",
            "['two' 'four']\n",
            "\n",
            "\n",
            "carbody\n",
            "['convertible' 'hatchback' 'sedan' 'wagon' 'hardtop']\n",
            "\n",
            "\n",
            "drivewheel\n",
            "['rwd' 'fwd' '4wd']\n",
            "\n",
            "\n",
            "enginelocation\n",
            "['front' 'rear']\n",
            "\n",
            "\n",
            "wheelbase\n",
            "[ 88.6  94.5  99.8  99.4 105.8  99.5 101.2 103.5 110.   88.4  93.7 103.3\n",
            "  95.9  86.6  96.5  94.3  96.  113.  102.   93.1  95.3  98.8 104.9 106.7\n",
            " 115.6  96.6 120.9 112.  102.7  93.   96.3  95.1  97.2 100.4  91.3  99.2\n",
            " 107.9 114.2 108.   89.5  98.4  96.1  99.1  93.3  97.   96.9  95.7 102.4\n",
            " 102.9 104.5  97.3 104.3 109.1]\n",
            "\n",
            "\n",
            "carlength\n",
            "[168.8 171.2 176.6 177.3 192.7 178.2 176.8 189.  193.8 197.  141.1 155.9\n",
            " 158.8 157.3 174.6 173.2 144.6 150.  163.4 157.1 167.5 175.4 169.1 170.7\n",
            " 172.6 199.6 191.7 159.1 166.8 169.  177.8 175.  190.9 187.5 202.6 180.3\n",
            " 208.1 199.2 178.4 173.  172.4 165.3 170.2 165.6 162.4 173.4 181.7 184.6\n",
            " 178.5 186.7 198.9 167.3 168.9 175.7 181.5 186.6 156.9 157.9 172.  173.5\n",
            " 173.6 158.7 169.7 166.3 168.7 176.2 175.6 183.5 187.8 171.7 159.3 165.7\n",
            " 180.2 183.1 188.8]\n",
            "\n",
            "\n",
            "carwidth\n",
            "[64.1 65.5 66.2 66.4 66.3 71.4 67.9 64.8 66.9 70.9 60.3 63.6 63.8 64.6\n",
            " 63.9 64.  65.2 62.5 66.  61.8 69.6 70.6 64.2 65.7 66.5 66.1 70.3 71.7\n",
            " 70.5 72.  68.  64.4 65.4 68.4 68.3 65.  72.3 66.6 63.4 65.6 67.7 67.2\n",
            " 68.9 68.8]\n",
            "\n",
            "\n",
            "carheight\n",
            "[48.8 52.4 54.3 53.1 55.7 55.9 52.  53.7 56.3 53.2 50.8 50.6 59.8 50.2\n",
            " 52.6 54.5 58.3 53.3 54.1 51.  53.5 51.4 52.8 47.8 49.6 55.5 54.4 56.5\n",
            " 58.7 54.9 56.7 55.4 54.8 49.4 51.6 54.7 55.1 56.1 49.7 56.  50.5 55.2\n",
            " 52.5 53.  59.1 53.9 55.6 56.2 57.5]\n",
            "\n",
            "\n",
            "curbweight\n",
            "[2548 2823 2337 2824 2507 2844 2954 3086 3053 2395 2710 2765 3055 3230\n",
            " 3380 3505 1488 1874 1909 1876 2128 1967 1989 2191 2535 2811 1713 1819\n",
            " 1837 1940 1956 2010 2024 2236 2289 2304 2372 2465 2293 2734 4066 3950\n",
            " 1890 1900 1905 1945 1950 2380 2385 2500 2410 2443 2425 2670 2700 3515\n",
            " 3750 3495 3770 3740 3685 3900 3715 2910 1918 1944 2004 2145 2370 2328\n",
            " 2833 2921 2926 2365 2405 2403 1889 2017 1938 1951 2028 1971 2037 2008\n",
            " 2324 2302 3095 3296 3060 3071 3139 3020 3197 3430 3075 3252 3285 3485\n",
            " 3130 2818 2778 2756 2800 3366 2579 2460 2658 2695 2707 2758 2808 2847\n",
            " 2050 2120 2240 2190 2340 2510 2290 2455 2420 2650 1985 2040 2015 2280\n",
            " 3110 2081 2109 2275 2094 2122 2140 2169 2204 2265 2300 2540 2536 2551\n",
            " 2679 2714 2975 2326 2480 2414 2458 2976 3016 3131 3151 2261 2209 2264\n",
            " 2212 2319 2254 2221 2661 2563 2912 3034 2935 3042 3045 3157 2952 3049\n",
            " 3012 3217 3062]\n",
            "\n",
            "\n",
            "enginetype\n",
            "['dohc' 'ohcv' 'ohc' 'l' 'rotor' 'ohcf' 'dohcv']\n",
            "\n",
            "\n",
            "cylindernumber\n",
            "['four' 'six' 'five' 'three' 'twelve' 'two' 'eight']\n",
            "\n",
            "\n",
            "enginesize\n",
            "[130 152 109 136 131 108 164 209  61  90  98 122 156  92  79 110 111 119\n",
            " 258 326  91  70  80 140 134 183 234 308 304  97 103 120 181 151 194 203\n",
            " 132 121 146 171 161 141 173 145]\n",
            "\n",
            "\n",
            "fuelsystem\n",
            "['mpfi' '2bbl' 'mfi' '1bbl' 'spfi' '4bbl' 'idi' 'spdi']\n",
            "\n",
            "\n",
            "boreratio\n",
            "[3.47 2.68 3.19 3.13 3.5  3.31 3.62 2.91 3.03 2.97 3.34 3.6  2.92 3.15\n",
            " 3.43 3.63 3.54 3.08 3.33 3.39 3.76 3.58 3.46 3.8  3.78 3.17 3.35 3.59\n",
            " 2.99 3.7  3.61 3.94 3.74 2.54 3.05 3.27 3.24 3.01]\n",
            "\n",
            "\n",
            "stroke\n",
            "[2.68  3.47  3.4   2.8   3.19  3.39  3.03  3.11  3.23  3.46  3.9   3.41\n",
            " 3.07  3.58  4.17  2.76  3.15  3.255 3.16  3.64  3.1   3.35  3.12  3.86\n",
            " 3.29  3.27  3.52  2.19  3.21  2.9   2.07  2.36  2.64  3.08  3.5   3.54\n",
            " 2.87 ]\n",
            "\n",
            "\n",
            "compressionratio\n",
            "[ 9.   10.    8.    8.5   8.3   7.    8.8   9.5   9.6   9.41  9.4   7.6\n",
            "  9.2  10.1   9.1   8.1  11.5   8.6  22.7  22.   21.5   7.5  21.9   7.8\n",
            "  8.4  21.    8.7   9.31  9.3   7.7  22.5  23.  ]\n",
            "\n",
            "\n",
            "horsepower\n",
            "[111 154 102 115 110 140 160 101 121 182  48  70  68  88 145  58  76  60\n",
            "  86 100  78  90 176 262 135  84  64 120  72 123 155 184 175 116  69  55\n",
            "  97 152 200  95 142 143 207 288  73  82  94  62  56 112  92 161 156  52\n",
            "  85 114 162 134 106]\n",
            "\n",
            "\n",
            "peakrpm\n",
            "[5000 5500 5800 4250 5400 5100 4800 6000 4750 4650 4200 4350 4500 5200\n",
            " 4150 5600 5900 5750 5250 4900 4400 6600 5300]\n",
            "\n",
            "\n",
            "citympg\n",
            "[21 19 24 18 17 16 23 20 15 47 38 37 31 49 30 27 25 13 26 36 22 14 45 28\n",
            " 32 35 34 29 33]\n",
            "\n",
            "\n",
            "highwaympg\n",
            "[27 26 30 22 25 20 29 28 53 43 41 38 24 54 42 34 33 31 19 17 23 32 39 18\n",
            " 16 37 50 36 47 46]\n",
            "\n",
            "\n",
            "price\n",
            "[13495.    16500.    13950.    17450.    15250.    17710.    18920.\n",
            " 23875.    17859.167 16430.    16925.    20970.    21105.    24565.\n",
            " 30760.    41315.    36880.     5151.     6295.     6575.     5572.\n",
            "  6377.     7957.     6229.     6692.     7609.     8558.     8921.\n",
            " 12964.     6479.     6855.     5399.     6529.     7129.     7295.\n",
            "  7895.     9095.     8845.    10295.    12945.    10345.     6785.\n",
            "  8916.5   11048.    32250.    35550.    36000.     5195.     6095.\n",
            "  6795.     6695.     7395.    10945.    11845.    13645.    15645.\n",
            "  8495.    10595.    10245.    10795.    11245.    18280.    18344.\n",
            " 25552.    28248.    28176.    31600.    34184.    35056.    40960.\n",
            " 45400.    16503.     5389.     6189.     6669.     7689.     9959.\n",
            "  8499.    12629.    14869.    14489.     6989.     8189.     9279.\n",
            "  5499.     7099.     6649.     6849.     7349.     7299.     7799.\n",
            "  7499.     7999.     8249.     8949.     9549.    13499.    14399.\n",
            " 17199.    19699.    18399.    11900.    13200.    12440.    13860.\n",
            " 15580.    16900.    16695.    17075.    16630.    17950.    18150.\n",
            " 12764.    22018.    32528.    34028.    37028.    31400.5    9295.\n",
            "  9895.    11850.    12170.    15040.    15510.    18620.     5118.\n",
            "  7053.     7603.     7126.     7775.     9960.     9233.    11259.\n",
            "  7463.    10198.     8013.    11694.     5348.     6338.     6488.\n",
            "  6918.     7898.     8778.     6938.     7198.     7788.     7738.\n",
            "  8358.     9258.     8058.     8238.     9298.     9538.     8449.\n",
            "  9639.     9989.    11199.    11549.    17669.     8948.    10698.\n",
            "  9988.    10898.    11248.    16558.    15998.    15690.    15750.\n",
            "  7975.     7995.     8195.     9495.     9995.    11595.     9980.\n",
            " 13295.    13845.    12290.    12940.    13415.    15985.    16515.\n",
            " 18420.    18950.    16845.    19045.    21485.    22470.    22625.   ]\n",
            "\n",
            "\n"
          ]
        }
      ]
    },
    {
      "cell_type": "code",
      "source": [
        "colunas = [ 'symboling', 'fueltype', 'aspiration',\n",
        "       'doornumber', 'carbody', 'drivewheel', 'enginelocation', 'enginetype',\n",
        "       'cylindernumber', 'fuelsystem', 'boreratio', 'stroke',\n",
        "       'compressionratio', 'horsepower', 'peakrpm', 'citympg', 'highwaympg']"
      ],
      "metadata": {
        "id": "HEF7Cf9T2GBX"
      },
      "execution_count": null,
      "outputs": []
    },
    {
      "cell_type": "code",
      "source": [
        "for c in list(colunas): #apenas colunas selecionadas ↥ lista de colunas acima ↥\n",
        "  print(c)\n",
        "  print(dados[c].unique())\n",
        "  print('\\n')"
      ],
      "metadata": {
        "id": "UPVV3p_S1wmf"
      },
      "execution_count": null,
      "outputs": []
    },
    {
      "cell_type": "code",
      "source": [
        "print('preco minimo' ,dados['price'].min() )\n",
        "print('preco maximo', dados['price'].max())"
      ],
      "metadata": {
        "colab": {
          "base_uri": "https://localhost:8080/"
        },
        "id": "7KSi2wif1pL6",
        "outputId": "228cee7f-fa05-4f70-d653-ce88c5c73d4d"
      },
      "execution_count": null,
      "outputs": [
        {
          "output_type": "stream",
          "name": "stdout",
          "text": [
            "preco minimo 5118.0\n",
            "preco maximo 45400.0\n"
          ]
        }
      ]
    },
    {
      "cell_type": "markdown",
      "source": [
        "#Estatistica descritiva"
      ],
      "metadata": {
        "id": "NuauYiX62QzC"
      }
    },
    {
      "cell_type": "markdown",
      "source": [
        "##distribuição de frequencia"
      ],
      "metadata": {
        "id": "fyuIrv-EWkyX"
      }
    },
    {
      "cell_type": "code",
      "source": [
        "def distruibuicao_de_frequencia(coluna):\n",
        "  frequencia = dados[coluna].value_counts()\n",
        "  percentual = dados[coluna].value_counts(normalize = True) * 100\n",
        "  df = pd.DataFrame({'Frequencia':frequencia , 'Percentual (%)':percentual.round(2)})\n",
        "  df.rename_axis(str(coluna) , axis = 1, inplace = True)\n",
        "\n",
        "  return df"
      ],
      "metadata": {
        "id": "TLOaPpb5518Z"
      },
      "execution_count": null,
      "outputs": []
    },
    {
      "cell_type": "code",
      "source": [
        "def distruibuicao_crosstab(coluna1 , coluna2):\n",
        "  df = pd.crosstab(dados[coluna1], dados[coluna2] )\n",
        "  return df"
      ],
      "metadata": {
        "id": "p-DHlRuL8u9z"
      },
      "execution_count": null,
      "outputs": []
    },
    {
      "cell_type": "code",
      "source": [
        "def distruibuicao_crosstab2(coluna1 , coluna2, coluna3):\n",
        "  df = pd.crosstab(dados[coluna1],\n",
        "                   dados[coluna2],\n",
        "                   aggfunc = 'mean' , #media\n",
        "                   values = dados[coluna3] )  #costuma ser a variavel dependente ex: preço\n",
        "  return df"
      ],
      "metadata": {
        "id": "dkm82PAG9Nr0"
      },
      "execution_count": null,
      "outputs": []
    },
    {
      "cell_type": "markdown",
      "source": [
        "###variaveis qualitativas"
      ],
      "metadata": {
        "id": "f9X1TO8sE_Vc"
      }
    },
    {
      "cell_type": "markdown",
      "source": [
        "funções para diminuir a repetição de codigo"
      ],
      "metadata": {
        "id": "pKUM1q5--Mu9"
      }
    },
    {
      "cell_type": "code",
      "source": [
        "df = distruibuicao_de_frequencia('aspiration')\n",
        "df"
      ],
      "metadata": {
        "colab": {
          "base_uri": "https://localhost:8080/",
          "height": 112
        },
        "id": "rl4-TZWq59fm",
        "outputId": "7abc5f15-83e5-4d68-dc72-30cf990797c9"
      },
      "execution_count": null,
      "outputs": [
        {
          "output_type": "execute_result",
          "data": {
            "text/plain": [
              "aspiration  Frequencia  Percentual (%)\n",
              "std                168           81.95\n",
              "turbo               37           18.05"
            ],
            "text/html": [
              "\n",
              "  <div id=\"df-d852ed77-0dca-4f69-afdc-5739ed79d99e\">\n",
              "    <div class=\"colab-df-container\">\n",
              "      <div>\n",
              "<style scoped>\n",
              "    .dataframe tbody tr th:only-of-type {\n",
              "        vertical-align: middle;\n",
              "    }\n",
              "\n",
              "    .dataframe tbody tr th {\n",
              "        vertical-align: top;\n",
              "    }\n",
              "\n",
              "    .dataframe thead th {\n",
              "        text-align: right;\n",
              "    }\n",
              "</style>\n",
              "<table border=\"1\" class=\"dataframe\">\n",
              "  <thead>\n",
              "    <tr style=\"text-align: right;\">\n",
              "      <th>aspiration</th>\n",
              "      <th>Frequencia</th>\n",
              "      <th>Percentual (%)</th>\n",
              "    </tr>\n",
              "  </thead>\n",
              "  <tbody>\n",
              "    <tr>\n",
              "      <th>std</th>\n",
              "      <td>168</td>\n",
              "      <td>81.95</td>\n",
              "    </tr>\n",
              "    <tr>\n",
              "      <th>turbo</th>\n",
              "      <td>37</td>\n",
              "      <td>18.05</td>\n",
              "    </tr>\n",
              "  </tbody>\n",
              "</table>\n",
              "</div>\n",
              "      <button class=\"colab-df-convert\" onclick=\"convertToInteractive('df-d852ed77-0dca-4f69-afdc-5739ed79d99e')\"\n",
              "              title=\"Convert this dataframe to an interactive table.\"\n",
              "              style=\"display:none;\">\n",
              "        \n",
              "  <svg xmlns=\"http://www.w3.org/2000/svg\" height=\"24px\"viewBox=\"0 0 24 24\"\n",
              "       width=\"24px\">\n",
              "    <path d=\"M0 0h24v24H0V0z\" fill=\"none\"/>\n",
              "    <path d=\"M18.56 5.44l.94 2.06.94-2.06 2.06-.94-2.06-.94-.94-2.06-.94 2.06-2.06.94zm-11 1L8.5 8.5l.94-2.06 2.06-.94-2.06-.94L8.5 2.5l-.94 2.06-2.06.94zm10 10l.94 2.06.94-2.06 2.06-.94-2.06-.94-.94-2.06-.94 2.06-2.06.94z\"/><path d=\"M17.41 7.96l-1.37-1.37c-.4-.4-.92-.59-1.43-.59-.52 0-1.04.2-1.43.59L10.3 9.45l-7.72 7.72c-.78.78-.78 2.05 0 2.83L4 21.41c.39.39.9.59 1.41.59.51 0 1.02-.2 1.41-.59l7.78-7.78 2.81-2.81c.8-.78.8-2.07 0-2.86zM5.41 20L4 18.59l7.72-7.72 1.47 1.35L5.41 20z\"/>\n",
              "  </svg>\n",
              "      </button>\n",
              "      \n",
              "  <style>\n",
              "    .colab-df-container {\n",
              "      display:flex;\n",
              "      flex-wrap:wrap;\n",
              "      gap: 12px;\n",
              "    }\n",
              "\n",
              "    .colab-df-convert {\n",
              "      background-color: #E8F0FE;\n",
              "      border: none;\n",
              "      border-radius: 50%;\n",
              "      cursor: pointer;\n",
              "      display: none;\n",
              "      fill: #1967D2;\n",
              "      height: 32px;\n",
              "      padding: 0 0 0 0;\n",
              "      width: 32px;\n",
              "    }\n",
              "\n",
              "    .colab-df-convert:hover {\n",
              "      background-color: #E2EBFA;\n",
              "      box-shadow: 0px 1px 2px rgba(60, 64, 67, 0.3), 0px 1px 3px 1px rgba(60, 64, 67, 0.15);\n",
              "      fill: #174EA6;\n",
              "    }\n",
              "\n",
              "    [theme=dark] .colab-df-convert {\n",
              "      background-color: #3B4455;\n",
              "      fill: #D2E3FC;\n",
              "    }\n",
              "\n",
              "    [theme=dark] .colab-df-convert:hover {\n",
              "      background-color: #434B5C;\n",
              "      box-shadow: 0px 1px 3px 1px rgba(0, 0, 0, 0.15);\n",
              "      filter: drop-shadow(0px 1px 2px rgba(0, 0, 0, 0.3));\n",
              "      fill: #FFFFFF;\n",
              "    }\n",
              "  </style>\n",
              "\n",
              "      <script>\n",
              "        const buttonEl =\n",
              "          document.querySelector('#df-d852ed77-0dca-4f69-afdc-5739ed79d99e button.colab-df-convert');\n",
              "        buttonEl.style.display =\n",
              "          google.colab.kernel.accessAllowed ? 'block' : 'none';\n",
              "\n",
              "        async function convertToInteractive(key) {\n",
              "          const element = document.querySelector('#df-d852ed77-0dca-4f69-afdc-5739ed79d99e');\n",
              "          const dataTable =\n",
              "            await google.colab.kernel.invokeFunction('convertToInteractive',\n",
              "                                                     [key], {});\n",
              "          if (!dataTable) return;\n",
              "\n",
              "          const docLinkHtml = 'Like what you see? Visit the ' +\n",
              "            '<a target=\"_blank\" href=https://colab.research.google.com/notebooks/data_table.ipynb>data table notebook</a>'\n",
              "            + ' to learn more about interactive tables.';\n",
              "          element.innerHTML = '';\n",
              "          dataTable['output_type'] = 'display_data';\n",
              "          await google.colab.output.renderOutput(dataTable, element);\n",
              "          const docLink = document.createElement('div');\n",
              "          docLink.innerHTML = docLinkHtml;\n",
              "          element.appendChild(docLink);\n",
              "        }\n",
              "      </script>\n",
              "    </div>\n",
              "  </div>\n",
              "  "
            ]
          },
          "metadata": {},
          "execution_count": 68
        }
      ]
    },
    {
      "cell_type": "markdown",
      "source": [
        "A quantidade de carros turbo é bem menor que o de carros std"
      ],
      "metadata": {
        "id": "woY1aeQf8uSE"
      }
    },
    {
      "cell_type": "code",
      "source": [
        "df = distruibuicao_de_frequencia('fueltype')\n",
        "df"
      ],
      "metadata": {
        "colab": {
          "base_uri": "https://localhost:8080/",
          "height": 112
        },
        "id": "HPN-JDV_-drx",
        "outputId": "fbe55da8-eaf2-450e-c652-0db14b5268bf"
      },
      "execution_count": null,
      "outputs": [
        {
          "output_type": "execute_result",
          "data": {
            "text/plain": [
              "fueltype  Frequencia  Percentual (%)\n",
              "gas              185           90.24\n",
              "diesel            20            9.76"
            ],
            "text/html": [
              "\n",
              "  <div id=\"df-57e1e25c-b66f-42ac-9b55-37d6ffbb9559\">\n",
              "    <div class=\"colab-df-container\">\n",
              "      <div>\n",
              "<style scoped>\n",
              "    .dataframe tbody tr th:only-of-type {\n",
              "        vertical-align: middle;\n",
              "    }\n",
              "\n",
              "    .dataframe tbody tr th {\n",
              "        vertical-align: top;\n",
              "    }\n",
              "\n",
              "    .dataframe thead th {\n",
              "        text-align: right;\n",
              "    }\n",
              "</style>\n",
              "<table border=\"1\" class=\"dataframe\">\n",
              "  <thead>\n",
              "    <tr style=\"text-align: right;\">\n",
              "      <th>fueltype</th>\n",
              "      <th>Frequencia</th>\n",
              "      <th>Percentual (%)</th>\n",
              "    </tr>\n",
              "  </thead>\n",
              "  <tbody>\n",
              "    <tr>\n",
              "      <th>gas</th>\n",
              "      <td>185</td>\n",
              "      <td>90.24</td>\n",
              "    </tr>\n",
              "    <tr>\n",
              "      <th>diesel</th>\n",
              "      <td>20</td>\n",
              "      <td>9.76</td>\n",
              "    </tr>\n",
              "  </tbody>\n",
              "</table>\n",
              "</div>\n",
              "      <button class=\"colab-df-convert\" onclick=\"convertToInteractive('df-57e1e25c-b66f-42ac-9b55-37d6ffbb9559')\"\n",
              "              title=\"Convert this dataframe to an interactive table.\"\n",
              "              style=\"display:none;\">\n",
              "        \n",
              "  <svg xmlns=\"http://www.w3.org/2000/svg\" height=\"24px\"viewBox=\"0 0 24 24\"\n",
              "       width=\"24px\">\n",
              "    <path d=\"M0 0h24v24H0V0z\" fill=\"none\"/>\n",
              "    <path d=\"M18.56 5.44l.94 2.06.94-2.06 2.06-.94-2.06-.94-.94-2.06-.94 2.06-2.06.94zm-11 1L8.5 8.5l.94-2.06 2.06-.94-2.06-.94L8.5 2.5l-.94 2.06-2.06.94zm10 10l.94 2.06.94-2.06 2.06-.94-2.06-.94-.94-2.06-.94 2.06-2.06.94z\"/><path d=\"M17.41 7.96l-1.37-1.37c-.4-.4-.92-.59-1.43-.59-.52 0-1.04.2-1.43.59L10.3 9.45l-7.72 7.72c-.78.78-.78 2.05 0 2.83L4 21.41c.39.39.9.59 1.41.59.51 0 1.02-.2 1.41-.59l7.78-7.78 2.81-2.81c.8-.78.8-2.07 0-2.86zM5.41 20L4 18.59l7.72-7.72 1.47 1.35L5.41 20z\"/>\n",
              "  </svg>\n",
              "      </button>\n",
              "      \n",
              "  <style>\n",
              "    .colab-df-container {\n",
              "      display:flex;\n",
              "      flex-wrap:wrap;\n",
              "      gap: 12px;\n",
              "    }\n",
              "\n",
              "    .colab-df-convert {\n",
              "      background-color: #E8F0FE;\n",
              "      border: none;\n",
              "      border-radius: 50%;\n",
              "      cursor: pointer;\n",
              "      display: none;\n",
              "      fill: #1967D2;\n",
              "      height: 32px;\n",
              "      padding: 0 0 0 0;\n",
              "      width: 32px;\n",
              "    }\n",
              "\n",
              "    .colab-df-convert:hover {\n",
              "      background-color: #E2EBFA;\n",
              "      box-shadow: 0px 1px 2px rgba(60, 64, 67, 0.3), 0px 1px 3px 1px rgba(60, 64, 67, 0.15);\n",
              "      fill: #174EA6;\n",
              "    }\n",
              "\n",
              "    [theme=dark] .colab-df-convert {\n",
              "      background-color: #3B4455;\n",
              "      fill: #D2E3FC;\n",
              "    }\n",
              "\n",
              "    [theme=dark] .colab-df-convert:hover {\n",
              "      background-color: #434B5C;\n",
              "      box-shadow: 0px 1px 3px 1px rgba(0, 0, 0, 0.15);\n",
              "      filter: drop-shadow(0px 1px 2px rgba(0, 0, 0, 0.3));\n",
              "      fill: #FFFFFF;\n",
              "    }\n",
              "  </style>\n",
              "\n",
              "      <script>\n",
              "        const buttonEl =\n",
              "          document.querySelector('#df-57e1e25c-b66f-42ac-9b55-37d6ffbb9559 button.colab-df-convert');\n",
              "        buttonEl.style.display =\n",
              "          google.colab.kernel.accessAllowed ? 'block' : 'none';\n",
              "\n",
              "        async function convertToInteractive(key) {\n",
              "          const element = document.querySelector('#df-57e1e25c-b66f-42ac-9b55-37d6ffbb9559');\n",
              "          const dataTable =\n",
              "            await google.colab.kernel.invokeFunction('convertToInteractive',\n",
              "                                                     [key], {});\n",
              "          if (!dataTable) return;\n",
              "\n",
              "          const docLinkHtml = 'Like what you see? Visit the ' +\n",
              "            '<a target=\"_blank\" href=https://colab.research.google.com/notebooks/data_table.ipynb>data table notebook</a>'\n",
              "            + ' to learn more about interactive tables.';\n",
              "          element.innerHTML = '';\n",
              "          dataTable['output_type'] = 'display_data';\n",
              "          await google.colab.output.renderOutput(dataTable, element);\n",
              "          const docLink = document.createElement('div');\n",
              "          docLink.innerHTML = docLinkHtml;\n",
              "          element.appendChild(docLink);\n",
              "        }\n",
              "      </script>\n",
              "    </div>\n",
              "  </div>\n",
              "  "
            ]
          },
          "metadata": {},
          "execution_count": 81
        }
      ]
    },
    {
      "cell_type": "markdown",
      "source": [
        "A quantidade de carros a diesel é bem menor que o de carros a gasolina"
      ],
      "metadata": {
        "id": "PdLoyNaz-qJM"
      }
    },
    {
      "cell_type": "code",
      "source": [
        "df = distruibuicao_crosstab('aspiration', 'fueltype')\n",
        "df"
      ],
      "metadata": {
        "colab": {
          "base_uri": "https://localhost:8080/",
          "height": 143
        },
        "id": "RXYMRuPK-8g0",
        "outputId": "8f16f2e7-a870-44bf-e359-464924e5edc5"
      },
      "execution_count": null,
      "outputs": [
        {
          "output_type": "execute_result",
          "data": {
            "text/plain": [
              "fueltype    diesel  gas\n",
              "aspiration             \n",
              "std              7  161\n",
              "turbo           13   24"
            ],
            "text/html": [
              "\n",
              "  <div id=\"df-1401278d-42d8-43c8-a425-192688bfebf1\">\n",
              "    <div class=\"colab-df-container\">\n",
              "      <div>\n",
              "<style scoped>\n",
              "    .dataframe tbody tr th:only-of-type {\n",
              "        vertical-align: middle;\n",
              "    }\n",
              "\n",
              "    .dataframe tbody tr th {\n",
              "        vertical-align: top;\n",
              "    }\n",
              "\n",
              "    .dataframe thead th {\n",
              "        text-align: right;\n",
              "    }\n",
              "</style>\n",
              "<table border=\"1\" class=\"dataframe\">\n",
              "  <thead>\n",
              "    <tr style=\"text-align: right;\">\n",
              "      <th>fueltype</th>\n",
              "      <th>diesel</th>\n",
              "      <th>gas</th>\n",
              "    </tr>\n",
              "    <tr>\n",
              "      <th>aspiration</th>\n",
              "      <th></th>\n",
              "      <th></th>\n",
              "    </tr>\n",
              "  </thead>\n",
              "  <tbody>\n",
              "    <tr>\n",
              "      <th>std</th>\n",
              "      <td>7</td>\n",
              "      <td>161</td>\n",
              "    </tr>\n",
              "    <tr>\n",
              "      <th>turbo</th>\n",
              "      <td>13</td>\n",
              "      <td>24</td>\n",
              "    </tr>\n",
              "  </tbody>\n",
              "</table>\n",
              "</div>\n",
              "      <button class=\"colab-df-convert\" onclick=\"convertToInteractive('df-1401278d-42d8-43c8-a425-192688bfebf1')\"\n",
              "              title=\"Convert this dataframe to an interactive table.\"\n",
              "              style=\"display:none;\">\n",
              "        \n",
              "  <svg xmlns=\"http://www.w3.org/2000/svg\" height=\"24px\"viewBox=\"0 0 24 24\"\n",
              "       width=\"24px\">\n",
              "    <path d=\"M0 0h24v24H0V0z\" fill=\"none\"/>\n",
              "    <path d=\"M18.56 5.44l.94 2.06.94-2.06 2.06-.94-2.06-.94-.94-2.06-.94 2.06-2.06.94zm-11 1L8.5 8.5l.94-2.06 2.06-.94-2.06-.94L8.5 2.5l-.94 2.06-2.06.94zm10 10l.94 2.06.94-2.06 2.06-.94-2.06-.94-.94-2.06-.94 2.06-2.06.94z\"/><path d=\"M17.41 7.96l-1.37-1.37c-.4-.4-.92-.59-1.43-.59-.52 0-1.04.2-1.43.59L10.3 9.45l-7.72 7.72c-.78.78-.78 2.05 0 2.83L4 21.41c.39.39.9.59 1.41.59.51 0 1.02-.2 1.41-.59l7.78-7.78 2.81-2.81c.8-.78.8-2.07 0-2.86zM5.41 20L4 18.59l7.72-7.72 1.47 1.35L5.41 20z\"/>\n",
              "  </svg>\n",
              "      </button>\n",
              "      \n",
              "  <style>\n",
              "    .colab-df-container {\n",
              "      display:flex;\n",
              "      flex-wrap:wrap;\n",
              "      gap: 12px;\n",
              "    }\n",
              "\n",
              "    .colab-df-convert {\n",
              "      background-color: #E8F0FE;\n",
              "      border: none;\n",
              "      border-radius: 50%;\n",
              "      cursor: pointer;\n",
              "      display: none;\n",
              "      fill: #1967D2;\n",
              "      height: 32px;\n",
              "      padding: 0 0 0 0;\n",
              "      width: 32px;\n",
              "    }\n",
              "\n",
              "    .colab-df-convert:hover {\n",
              "      background-color: #E2EBFA;\n",
              "      box-shadow: 0px 1px 2px rgba(60, 64, 67, 0.3), 0px 1px 3px 1px rgba(60, 64, 67, 0.15);\n",
              "      fill: #174EA6;\n",
              "    }\n",
              "\n",
              "    [theme=dark] .colab-df-convert {\n",
              "      background-color: #3B4455;\n",
              "      fill: #D2E3FC;\n",
              "    }\n",
              "\n",
              "    [theme=dark] .colab-df-convert:hover {\n",
              "      background-color: #434B5C;\n",
              "      box-shadow: 0px 1px 3px 1px rgba(0, 0, 0, 0.15);\n",
              "      filter: drop-shadow(0px 1px 2px rgba(0, 0, 0, 0.3));\n",
              "      fill: #FFFFFF;\n",
              "    }\n",
              "  </style>\n",
              "\n",
              "      <script>\n",
              "        const buttonEl =\n",
              "          document.querySelector('#df-1401278d-42d8-43c8-a425-192688bfebf1 button.colab-df-convert');\n",
              "        buttonEl.style.display =\n",
              "          google.colab.kernel.accessAllowed ? 'block' : 'none';\n",
              "\n",
              "        async function convertToInteractive(key) {\n",
              "          const element = document.querySelector('#df-1401278d-42d8-43c8-a425-192688bfebf1');\n",
              "          const dataTable =\n",
              "            await google.colab.kernel.invokeFunction('convertToInteractive',\n",
              "                                                     [key], {});\n",
              "          if (!dataTable) return;\n",
              "\n",
              "          const docLinkHtml = 'Like what you see? Visit the ' +\n",
              "            '<a target=\"_blank\" href=https://colab.research.google.com/notebooks/data_table.ipynb>data table notebook</a>'\n",
              "            + ' to learn more about interactive tables.';\n",
              "          element.innerHTML = '';\n",
              "          dataTable['output_type'] = 'display_data';\n",
              "          await google.colab.output.renderOutput(dataTable, element);\n",
              "          const docLink = document.createElement('div');\n",
              "          docLink.innerHTML = docLinkHtml;\n",
              "          element.appendChild(docLink);\n",
              "        }\n",
              "      </script>\n",
              "    </div>\n",
              "  </div>\n",
              "  "
            ]
          },
          "metadata": {},
          "execution_count": 87
        }
      ]
    },
    {
      "cell_type": "markdown",
      "source": [
        "mesmo a quantidade de carros std sendo maior que a turbo , a quatidade de carros std que usa combustivel diesel é menor que o de carros turbo com combustivel diesel."
      ],
      "metadata": {
        "id": "G7utIz_hBQYp"
      }
    },
    {
      "cell_type": "code",
      "source": [
        "df= distruibuicao_crosstab2('aspiration', 'fueltype' , 'price')\n",
        "df"
      ],
      "metadata": {
        "colab": {
          "base_uri": "https://localhost:8080/",
          "height": 143
        },
        "id": "pjga3LzxA92C",
        "outputId": "5e91a07b-8815-4ff5-abaa-bcba15078bff"
      },
      "execution_count": null,
      "outputs": [
        {
          "output_type": "execute_result",
          "data": {
            "text/plain": [
              "fueltype          diesel           gas\n",
              "aspiration                            \n",
              "std          9670.571429  12739.127329\n",
              "turbo       19159.153846  14748.465292"
            ],
            "text/html": [
              "\n",
              "  <div id=\"df-4c60e026-988a-4aed-87c0-c174bef67042\">\n",
              "    <div class=\"colab-df-container\">\n",
              "      <div>\n",
              "<style scoped>\n",
              "    .dataframe tbody tr th:only-of-type {\n",
              "        vertical-align: middle;\n",
              "    }\n",
              "\n",
              "    .dataframe tbody tr th {\n",
              "        vertical-align: top;\n",
              "    }\n",
              "\n",
              "    .dataframe thead th {\n",
              "        text-align: right;\n",
              "    }\n",
              "</style>\n",
              "<table border=\"1\" class=\"dataframe\">\n",
              "  <thead>\n",
              "    <tr style=\"text-align: right;\">\n",
              "      <th>fueltype</th>\n",
              "      <th>diesel</th>\n",
              "      <th>gas</th>\n",
              "    </tr>\n",
              "    <tr>\n",
              "      <th>aspiration</th>\n",
              "      <th></th>\n",
              "      <th></th>\n",
              "    </tr>\n",
              "  </thead>\n",
              "  <tbody>\n",
              "    <tr>\n",
              "      <th>std</th>\n",
              "      <td>9670.571429</td>\n",
              "      <td>12739.127329</td>\n",
              "    </tr>\n",
              "    <tr>\n",
              "      <th>turbo</th>\n",
              "      <td>19159.153846</td>\n",
              "      <td>14748.465292</td>\n",
              "    </tr>\n",
              "  </tbody>\n",
              "</table>\n",
              "</div>\n",
              "      <button class=\"colab-df-convert\" onclick=\"convertToInteractive('df-4c60e026-988a-4aed-87c0-c174bef67042')\"\n",
              "              title=\"Convert this dataframe to an interactive table.\"\n",
              "              style=\"display:none;\">\n",
              "        \n",
              "  <svg xmlns=\"http://www.w3.org/2000/svg\" height=\"24px\"viewBox=\"0 0 24 24\"\n",
              "       width=\"24px\">\n",
              "    <path d=\"M0 0h24v24H0V0z\" fill=\"none\"/>\n",
              "    <path d=\"M18.56 5.44l.94 2.06.94-2.06 2.06-.94-2.06-.94-.94-2.06-.94 2.06-2.06.94zm-11 1L8.5 8.5l.94-2.06 2.06-.94-2.06-.94L8.5 2.5l-.94 2.06-2.06.94zm10 10l.94 2.06.94-2.06 2.06-.94-2.06-.94-.94-2.06-.94 2.06-2.06.94z\"/><path d=\"M17.41 7.96l-1.37-1.37c-.4-.4-.92-.59-1.43-.59-.52 0-1.04.2-1.43.59L10.3 9.45l-7.72 7.72c-.78.78-.78 2.05 0 2.83L4 21.41c.39.39.9.59 1.41.59.51 0 1.02-.2 1.41-.59l7.78-7.78 2.81-2.81c.8-.78.8-2.07 0-2.86zM5.41 20L4 18.59l7.72-7.72 1.47 1.35L5.41 20z\"/>\n",
              "  </svg>\n",
              "      </button>\n",
              "      \n",
              "  <style>\n",
              "    .colab-df-container {\n",
              "      display:flex;\n",
              "      flex-wrap:wrap;\n",
              "      gap: 12px;\n",
              "    }\n",
              "\n",
              "    .colab-df-convert {\n",
              "      background-color: #E8F0FE;\n",
              "      border: none;\n",
              "      border-radius: 50%;\n",
              "      cursor: pointer;\n",
              "      display: none;\n",
              "      fill: #1967D2;\n",
              "      height: 32px;\n",
              "      padding: 0 0 0 0;\n",
              "      width: 32px;\n",
              "    }\n",
              "\n",
              "    .colab-df-convert:hover {\n",
              "      background-color: #E2EBFA;\n",
              "      box-shadow: 0px 1px 2px rgba(60, 64, 67, 0.3), 0px 1px 3px 1px rgba(60, 64, 67, 0.15);\n",
              "      fill: #174EA6;\n",
              "    }\n",
              "\n",
              "    [theme=dark] .colab-df-convert {\n",
              "      background-color: #3B4455;\n",
              "      fill: #D2E3FC;\n",
              "    }\n",
              "\n",
              "    [theme=dark] .colab-df-convert:hover {\n",
              "      background-color: #434B5C;\n",
              "      box-shadow: 0px 1px 3px 1px rgba(0, 0, 0, 0.15);\n",
              "      filter: drop-shadow(0px 1px 2px rgba(0, 0, 0, 0.3));\n",
              "      fill: #FFFFFF;\n",
              "    }\n",
              "  </style>\n",
              "\n",
              "      <script>\n",
              "        const buttonEl =\n",
              "          document.querySelector('#df-4c60e026-988a-4aed-87c0-c174bef67042 button.colab-df-convert');\n",
              "        buttonEl.style.display =\n",
              "          google.colab.kernel.accessAllowed ? 'block' : 'none';\n",
              "\n",
              "        async function convertToInteractive(key) {\n",
              "          const element = document.querySelector('#df-4c60e026-988a-4aed-87c0-c174bef67042');\n",
              "          const dataTable =\n",
              "            await google.colab.kernel.invokeFunction('convertToInteractive',\n",
              "                                                     [key], {});\n",
              "          if (!dataTable) return;\n",
              "\n",
              "          const docLinkHtml = 'Like what you see? Visit the ' +\n",
              "            '<a target=\"_blank\" href=https://colab.research.google.com/notebooks/data_table.ipynb>data table notebook</a>'\n",
              "            + ' to learn more about interactive tables.';\n",
              "          element.innerHTML = '';\n",
              "          dataTable['output_type'] = 'display_data';\n",
              "          await google.colab.output.renderOutput(dataTable, element);\n",
              "          const docLink = document.createElement('div');\n",
              "          docLink.innerHTML = docLinkHtml;\n",
              "          element.appendChild(docLink);\n",
              "        }\n",
              "      </script>\n",
              "    </div>\n",
              "  </div>\n",
              "  "
            ]
          },
          "metadata": {},
          "execution_count": 85
        }
      ]
    },
    {
      "cell_type": "markdown",
      "source": [
        "a média do preço dos carros."
      ],
      "metadata": {
        "id": "FvjFMZfuBt1j"
      }
    },
    {
      "cell_type": "markdown",
      "source": [
        "enquanto a combinação turbo/diesel tem valor maior que turbo/gas\n",
        "\n",
        "a combinação std/diesel tem valor menor que std/gas."
      ],
      "metadata": {
        "id": "Gdx2ARYpB224"
      }
    },
    {
      "cell_type": "markdown",
      "source": [
        "###variaveis quantitativas"
      ],
      "metadata": {
        "id": "qFdzDSAcFHxL"
      }
    },
    {
      "cell_type": "markdown",
      "source": [
        "distruibuindo os valores em classes "
      ],
      "metadata": {
        "id": "CzF7I1POFNSe"
      }
    },
    {
      "cell_type": "code",
      "source": [
        ""
      ],
      "metadata": {
        "id": "NtNISKapFKUR"
      },
      "execution_count": null,
      "outputs": []
    },
    {
      "cell_type": "markdown",
      "source": [
        "## Medidas de tendencia central"
      ],
      "metadata": {
        "id": "ybzYXxChWoGC"
      }
    },
    {
      "cell_type": "code",
      "source": [
        ""
      ],
      "metadata": {
        "id": "fM6C0icFWpVs"
      },
      "execution_count": null,
      "outputs": []
    },
    {
      "cell_type": "markdown",
      "source": [
        "#Machine learning."
      ],
      "metadata": {
        "id": "YzAfEIsxWu3i"
      }
    },
    {
      "cell_type": "markdown",
      "source": [
        "##tratando dados"
      ],
      "metadata": {
        "id": "43pcxLxnr5os"
      }
    },
    {
      "cell_type": "code",
      "source": [
        "dados.iloc[:, [2 ,3, 4, 5 ,6 ,7 ,8 ,14 ,15 ,17]]"
      ],
      "metadata": {
        "colab": {
          "base_uri": "https://localhost:8080/",
          "height": 557
        },
        "id": "LoWeTF6iXWPv",
        "outputId": "27aa191b-a567-4bab-dedd-62a280028aac"
      },
      "execution_count": null,
      "outputs": [
        {
          "output_type": "execute_result",
          "data": {
            "text/plain": [
              "                      CarName fueltype aspiration doornumber      carbody  \\\n",
              "0          alfa-romero giulia      gas        std        two  convertible   \n",
              "1         alfa-romero stelvio      gas        std        two  convertible   \n",
              "2    alfa-romero Quadrifoglio      gas        std        two    hatchback   \n",
              "3                 audi 100 ls      gas        std       four        sedan   \n",
              "4                  audi 100ls      gas        std       four        sedan   \n",
              "..                        ...      ...        ...        ...          ...   \n",
              "200           volvo 145e (sw)      gas        std       four        sedan   \n",
              "201               volvo 144ea      gas      turbo       four        sedan   \n",
              "202               volvo 244dl      gas        std       four        sedan   \n",
              "203                 volvo 246   diesel      turbo       four        sedan   \n",
              "204               volvo 264gl      gas      turbo       four        sedan   \n",
              "\n",
              "    drivewheel enginelocation enginetype cylindernumber fuelsystem  \n",
              "0          rwd          front       dohc           four       mpfi  \n",
              "1          rwd          front       dohc           four       mpfi  \n",
              "2          rwd          front       ohcv            six       mpfi  \n",
              "3          fwd          front        ohc           four       mpfi  \n",
              "4          4wd          front        ohc           five       mpfi  \n",
              "..         ...            ...        ...            ...        ...  \n",
              "200        rwd          front        ohc           four       mpfi  \n",
              "201        rwd          front        ohc           four       mpfi  \n",
              "202        rwd          front       ohcv            six       mpfi  \n",
              "203        rwd          front        ohc            six        idi  \n",
              "204        rwd          front        ohc           four       mpfi  \n",
              "\n",
              "[205 rows x 10 columns]"
            ],
            "text/html": [
              "\n",
              "  <div id=\"df-e4d76bd2-48ad-4a0f-9560-6bc47f27d2c6\">\n",
              "    <div class=\"colab-df-container\">\n",
              "      <div>\n",
              "<style scoped>\n",
              "    .dataframe tbody tr th:only-of-type {\n",
              "        vertical-align: middle;\n",
              "    }\n",
              "\n",
              "    .dataframe tbody tr th {\n",
              "        vertical-align: top;\n",
              "    }\n",
              "\n",
              "    .dataframe thead th {\n",
              "        text-align: right;\n",
              "    }\n",
              "</style>\n",
              "<table border=\"1\" class=\"dataframe\">\n",
              "  <thead>\n",
              "    <tr style=\"text-align: right;\">\n",
              "      <th></th>\n",
              "      <th>CarName</th>\n",
              "      <th>fueltype</th>\n",
              "      <th>aspiration</th>\n",
              "      <th>doornumber</th>\n",
              "      <th>carbody</th>\n",
              "      <th>drivewheel</th>\n",
              "      <th>enginelocation</th>\n",
              "      <th>enginetype</th>\n",
              "      <th>cylindernumber</th>\n",
              "      <th>fuelsystem</th>\n",
              "    </tr>\n",
              "  </thead>\n",
              "  <tbody>\n",
              "    <tr>\n",
              "      <th>0</th>\n",
              "      <td>alfa-romero giulia</td>\n",
              "      <td>gas</td>\n",
              "      <td>std</td>\n",
              "      <td>two</td>\n",
              "      <td>convertible</td>\n",
              "      <td>rwd</td>\n",
              "      <td>front</td>\n",
              "      <td>dohc</td>\n",
              "      <td>four</td>\n",
              "      <td>mpfi</td>\n",
              "    </tr>\n",
              "    <tr>\n",
              "      <th>1</th>\n",
              "      <td>alfa-romero stelvio</td>\n",
              "      <td>gas</td>\n",
              "      <td>std</td>\n",
              "      <td>two</td>\n",
              "      <td>convertible</td>\n",
              "      <td>rwd</td>\n",
              "      <td>front</td>\n",
              "      <td>dohc</td>\n",
              "      <td>four</td>\n",
              "      <td>mpfi</td>\n",
              "    </tr>\n",
              "    <tr>\n",
              "      <th>2</th>\n",
              "      <td>alfa-romero Quadrifoglio</td>\n",
              "      <td>gas</td>\n",
              "      <td>std</td>\n",
              "      <td>two</td>\n",
              "      <td>hatchback</td>\n",
              "      <td>rwd</td>\n",
              "      <td>front</td>\n",
              "      <td>ohcv</td>\n",
              "      <td>six</td>\n",
              "      <td>mpfi</td>\n",
              "    </tr>\n",
              "    <tr>\n",
              "      <th>3</th>\n",
              "      <td>audi 100 ls</td>\n",
              "      <td>gas</td>\n",
              "      <td>std</td>\n",
              "      <td>four</td>\n",
              "      <td>sedan</td>\n",
              "      <td>fwd</td>\n",
              "      <td>front</td>\n",
              "      <td>ohc</td>\n",
              "      <td>four</td>\n",
              "      <td>mpfi</td>\n",
              "    </tr>\n",
              "    <tr>\n",
              "      <th>4</th>\n",
              "      <td>audi 100ls</td>\n",
              "      <td>gas</td>\n",
              "      <td>std</td>\n",
              "      <td>four</td>\n",
              "      <td>sedan</td>\n",
              "      <td>4wd</td>\n",
              "      <td>front</td>\n",
              "      <td>ohc</td>\n",
              "      <td>five</td>\n",
              "      <td>mpfi</td>\n",
              "    </tr>\n",
              "    <tr>\n",
              "      <th>...</th>\n",
              "      <td>...</td>\n",
              "      <td>...</td>\n",
              "      <td>...</td>\n",
              "      <td>...</td>\n",
              "      <td>...</td>\n",
              "      <td>...</td>\n",
              "      <td>...</td>\n",
              "      <td>...</td>\n",
              "      <td>...</td>\n",
              "      <td>...</td>\n",
              "    </tr>\n",
              "    <tr>\n",
              "      <th>200</th>\n",
              "      <td>volvo 145e (sw)</td>\n",
              "      <td>gas</td>\n",
              "      <td>std</td>\n",
              "      <td>four</td>\n",
              "      <td>sedan</td>\n",
              "      <td>rwd</td>\n",
              "      <td>front</td>\n",
              "      <td>ohc</td>\n",
              "      <td>four</td>\n",
              "      <td>mpfi</td>\n",
              "    </tr>\n",
              "    <tr>\n",
              "      <th>201</th>\n",
              "      <td>volvo 144ea</td>\n",
              "      <td>gas</td>\n",
              "      <td>turbo</td>\n",
              "      <td>four</td>\n",
              "      <td>sedan</td>\n",
              "      <td>rwd</td>\n",
              "      <td>front</td>\n",
              "      <td>ohc</td>\n",
              "      <td>four</td>\n",
              "      <td>mpfi</td>\n",
              "    </tr>\n",
              "    <tr>\n",
              "      <th>202</th>\n",
              "      <td>volvo 244dl</td>\n",
              "      <td>gas</td>\n",
              "      <td>std</td>\n",
              "      <td>four</td>\n",
              "      <td>sedan</td>\n",
              "      <td>rwd</td>\n",
              "      <td>front</td>\n",
              "      <td>ohcv</td>\n",
              "      <td>six</td>\n",
              "      <td>mpfi</td>\n",
              "    </tr>\n",
              "    <tr>\n",
              "      <th>203</th>\n",
              "      <td>volvo 246</td>\n",
              "      <td>diesel</td>\n",
              "      <td>turbo</td>\n",
              "      <td>four</td>\n",
              "      <td>sedan</td>\n",
              "      <td>rwd</td>\n",
              "      <td>front</td>\n",
              "      <td>ohc</td>\n",
              "      <td>six</td>\n",
              "      <td>idi</td>\n",
              "    </tr>\n",
              "    <tr>\n",
              "      <th>204</th>\n",
              "      <td>volvo 264gl</td>\n",
              "      <td>gas</td>\n",
              "      <td>turbo</td>\n",
              "      <td>four</td>\n",
              "      <td>sedan</td>\n",
              "      <td>rwd</td>\n",
              "      <td>front</td>\n",
              "      <td>ohc</td>\n",
              "      <td>four</td>\n",
              "      <td>mpfi</td>\n",
              "    </tr>\n",
              "  </tbody>\n",
              "</table>\n",
              "<p>205 rows × 10 columns</p>\n",
              "</div>\n",
              "      <button class=\"colab-df-convert\" onclick=\"convertToInteractive('df-e4d76bd2-48ad-4a0f-9560-6bc47f27d2c6')\"\n",
              "              title=\"Convert this dataframe to an interactive table.\"\n",
              "              style=\"display:none;\">\n",
              "        \n",
              "  <svg xmlns=\"http://www.w3.org/2000/svg\" height=\"24px\"viewBox=\"0 0 24 24\"\n",
              "       width=\"24px\">\n",
              "    <path d=\"M0 0h24v24H0V0z\" fill=\"none\"/>\n",
              "    <path d=\"M18.56 5.44l.94 2.06.94-2.06 2.06-.94-2.06-.94-.94-2.06-.94 2.06-2.06.94zm-11 1L8.5 8.5l.94-2.06 2.06-.94-2.06-.94L8.5 2.5l-.94 2.06-2.06.94zm10 10l.94 2.06.94-2.06 2.06-.94-2.06-.94-.94-2.06-.94 2.06-2.06.94z\"/><path d=\"M17.41 7.96l-1.37-1.37c-.4-.4-.92-.59-1.43-.59-.52 0-1.04.2-1.43.59L10.3 9.45l-7.72 7.72c-.78.78-.78 2.05 0 2.83L4 21.41c.39.39.9.59 1.41.59.51 0 1.02-.2 1.41-.59l7.78-7.78 2.81-2.81c.8-.78.8-2.07 0-2.86zM5.41 20L4 18.59l7.72-7.72 1.47 1.35L5.41 20z\"/>\n",
              "  </svg>\n",
              "      </button>\n",
              "      \n",
              "  <style>\n",
              "    .colab-df-container {\n",
              "      display:flex;\n",
              "      flex-wrap:wrap;\n",
              "      gap: 12px;\n",
              "    }\n",
              "\n",
              "    .colab-df-convert {\n",
              "      background-color: #E8F0FE;\n",
              "      border: none;\n",
              "      border-radius: 50%;\n",
              "      cursor: pointer;\n",
              "      display: none;\n",
              "      fill: #1967D2;\n",
              "      height: 32px;\n",
              "      padding: 0 0 0 0;\n",
              "      width: 32px;\n",
              "    }\n",
              "\n",
              "    .colab-df-convert:hover {\n",
              "      background-color: #E2EBFA;\n",
              "      box-shadow: 0px 1px 2px rgba(60, 64, 67, 0.3), 0px 1px 3px 1px rgba(60, 64, 67, 0.15);\n",
              "      fill: #174EA6;\n",
              "    }\n",
              "\n",
              "    [theme=dark] .colab-df-convert {\n",
              "      background-color: #3B4455;\n",
              "      fill: #D2E3FC;\n",
              "    }\n",
              "\n",
              "    [theme=dark] .colab-df-convert:hover {\n",
              "      background-color: #434B5C;\n",
              "      box-shadow: 0px 1px 3px 1px rgba(0, 0, 0, 0.15);\n",
              "      filter: drop-shadow(0px 1px 2px rgba(0, 0, 0, 0.3));\n",
              "      fill: #FFFFFF;\n",
              "    }\n",
              "  </style>\n",
              "\n",
              "      <script>\n",
              "        const buttonEl =\n",
              "          document.querySelector('#df-e4d76bd2-48ad-4a0f-9560-6bc47f27d2c6 button.colab-df-convert');\n",
              "        buttonEl.style.display =\n",
              "          google.colab.kernel.accessAllowed ? 'block' : 'none';\n",
              "\n",
              "        async function convertToInteractive(key) {\n",
              "          const element = document.querySelector('#df-e4d76bd2-48ad-4a0f-9560-6bc47f27d2c6');\n",
              "          const dataTable =\n",
              "            await google.colab.kernel.invokeFunction('convertToInteractive',\n",
              "                                                     [key], {});\n",
              "          if (!dataTable) return;\n",
              "\n",
              "          const docLinkHtml = 'Like what you see? Visit the ' +\n",
              "            '<a target=\"_blank\" href=https://colab.research.google.com/notebooks/data_table.ipynb>data table notebook</a>'\n",
              "            + ' to learn more about interactive tables.';\n",
              "          element.innerHTML = '';\n",
              "          dataTable['output_type'] = 'display_data';\n",
              "          await google.colab.output.renderOutput(dataTable, element);\n",
              "          const docLink = document.createElement('div');\n",
              "          docLink.innerHTML = docLinkHtml;\n",
              "          element.appendChild(docLink);\n",
              "        }\n",
              "      </script>\n",
              "    </div>\n",
              "  </div>\n",
              "  "
            ]
          },
          "metadata": {},
          "execution_count": 130
        }
      ]
    },
    {
      "cell_type": "code",
      "source": [
        "dict = {'gas': 1, 'diesel': 2}\n",
        "dados['fueltype'] = dados['fueltype'].map(dict)"
      ],
      "metadata": {
        "id": "T9gSzmnMd37L"
      },
      "execution_count": null,
      "outputs": []
    },
    {
      "cell_type": "code",
      "source": [
        "dict = {'std': 1, 'turbo': 2}\n",
        "dados['aspiration'] = dados['aspiration'].map(dict)"
      ],
      "metadata": {
        "id": "wJLTr-iaiR3Y"
      },
      "execution_count": null,
      "outputs": []
    },
    {
      "cell_type": "code",
      "source": [
        "dict = {'two': 2, 'four': 4}\n",
        "dados['doornumber'] = dados['doornumber'].map(dict)"
      ],
      "metadata": {
        "id": "5o8tfJfJivbS"
      },
      "execution_count": null,
      "outputs": []
    },
    {
      "cell_type": "code",
      "source": [
        "dict = {'convertible': 1, 'hatchback': 2 ,'sedan': 3,'wagon': 4,'hardtop': 5}\n",
        "dados['carbody'] = dados['carbody'].map(dict)"
      ],
      "metadata": {
        "id": "hiGGT-NujCoB"
      },
      "execution_count": null,
      "outputs": []
    },
    {
      "cell_type": "code",
      "source": [
        "dict = {'rwd': 1, 'fwd': 2 ,'4wd': 3}\n",
        "dados['drivewheel'] = dados['drivewheel'].map(dict)"
      ],
      "metadata": {
        "id": "xdX0WGg6jYs8"
      },
      "execution_count": null,
      "outputs": []
    },
    {
      "cell_type": "code",
      "source": [
        "dict = {'front': 1, 'rear': 2}\n",
        "dados['enginelocation'] = dados['enginelocation'].map(dict)"
      ],
      "metadata": {
        "id": "Rs29GH2ujkr7"
      },
      "execution_count": null,
      "outputs": []
    },
    {
      "cell_type": "code",
      "source": [
        "dict = {'dohc': 1, 'ohcv': 2 ,'ohc': 3,'l': 4,'rotor': 5 ,'ohcf':6 ,'dohcv':7}\n",
        "dados['enginetype'] = dados['enginetype'].map(dict)"
      ],
      "metadata": {
        "id": "W8wVkAdujxKK"
      },
      "execution_count": null,
      "outputs": []
    },
    {
      "cell_type": "code",
      "source": [
        "dict = {'four': 4, 'six': 6 ,'five': 5,'three': 3,'twelve': 12 ,'two':2 ,'eight':8}\n",
        "dados['cylindernumber'] = dados['cylindernumber'].map(dict)"
      ],
      "metadata": {
        "id": "Urx0j-l_kDVh"
      },
      "execution_count": null,
      "outputs": []
    },
    {
      "cell_type": "code",
      "source": [
        "dict = {'mpfi': 1, '2bbl': 2 ,'mfi': 3,'1bbl': 4,'spfi': 5 ,'4bbl':6 ,'idi':7 ,'spdi':8}\n",
        "dados['fuelsystem'] = dados['fuelsystem'].map(dict)"
      ],
      "metadata": {
        "id": "r8RWyHgQkXx6"
      },
      "execution_count": null,
      "outputs": []
    },
    {
      "cell_type": "markdown",
      "source": [
        "##correlação e escolhendo colunas"
      ],
      "metadata": {
        "id": "6fscmj_TsASX"
      }
    },
    {
      "cell_type": "code",
      "source": [
        "correlacao = dados.corr()"
      ],
      "metadata": {
        "id": "TC28n2FNk5Wr"
      },
      "execution_count": null,
      "outputs": []
    },
    {
      "cell_type": "code",
      "source": [
        "dados.head()"
      ],
      "metadata": {
        "id": "uBHIzQKJpgCu"
      },
      "execution_count": null,
      "outputs": []
    },
    {
      "cell_type": "code",
      "source": [
        "correlacao.price"
      ],
      "metadata": {
        "colab": {
          "base_uri": "https://localhost:8080/"
        },
        "id": "xW_AFzxsk633",
        "outputId": "bf002267-0ed7-4bc4-c1a1-f748b6c89346"
      },
      "execution_count": null,
      "outputs": [
        {
          "output_type": "execute_result",
          "data": {
            "text/plain": [
              "car_ID             -0.109093\n",
              "symboling          -0.079978\n",
              "fueltype            0.105679\n",
              "aspiration          0.177926\n",
              "doornumber          0.031835\n",
              "carbody             0.161294\n",
              "drivewheel         -0.577992\n",
              "enginelocation      0.324973\n",
              "wheelbase           0.577816\n",
              "carlength           0.682920\n",
              "carwidth            0.759325\n",
              "carheight           0.119336\n",
              "curbweight          0.835305\n",
              "enginetype         -0.092841\n",
              "cylindernumber      0.718305\n",
              "enginesize          0.874145\n",
              "fuelsystem         -0.122118\n",
              "boreratio           0.553173\n",
              "stroke              0.079443\n",
              "compressionratio    0.067984\n",
              "horsepower          0.808139\n",
              "peakrpm            -0.085267\n",
              "citympg            -0.685751\n",
              "highwaympg         -0.697599\n",
              "price               1.000000\n",
              "Name: price, dtype: float64"
            ]
          },
          "metadata": {},
          "execution_count": 159
        }
      ]
    },
    {
      "cell_type": "code",
      "source": [
        "#0,69  0,8  0,8  0,71 0,8 0.7 0,68 0.5\n",
        "X = dados[['highwaympg' ,'horsepower' ,'enginesize' , 'cylindernumber' ,'curbweight' ,'carwidth' ,'carlength' ,'wheelbase']]\n",
        "y = dados['price']"
      ],
      "metadata": {
        "id": "NmsqrYdOl1fi"
      },
      "execution_count": null,
      "outputs": []
    },
    {
      "cell_type": "code",
      "source": [
        "# X  0,8  0,8 0,71 0,8 X X X\n",
        "X = dados[['horsepower' ,'enginesize' , 'cylindernumber' ,'curbweight' ]]\n",
        "y = dados['price']"
      ],
      "metadata": {
        "id": "LkpL2vVUstSp"
      },
      "execution_count": null,
      "outputs": []
    },
    {
      "cell_type": "markdown",
      "source": [
        "##regressao"
      ],
      "metadata": {
        "id": "tqF4dN-WsFff"
      }
    },
    {
      "cell_type": "code",
      "source": [
        "from sklearn import linear_model\n",
        "from sklearn.metrics import mean_squared_error, r2_score\n",
        "\n",
        "from sklearn.model_selection import train_test_split"
      ],
      "metadata": {
        "id": "RQNSfoHzsIYv"
      },
      "execution_count": null,
      "outputs": []
    },
    {
      "cell_type": "code",
      "source": [
        "X_train, X_test, y_train, y_test = train_test_split(X, y, test_size=0.33, random_state=42)"
      ],
      "metadata": {
        "id": "h6T4rqq6rSKf"
      },
      "execution_count": null,
      "outputs": []
    },
    {
      "cell_type": "code",
      "source": [
        "regr = linear_model.LinearRegression()\n",
        "\n",
        "regr.fit(X_train, y_train)\n",
        "\n",
        "y_pred = regr.predict(X_test)\n",
        "\n",
        "# The coefficients\n",
        "print(\"Coefficients: \\n\", regr.coef_[0])\n",
        "print(\"Intercept: \\n\", regr.intercept_)\n",
        "# The mean squared error\n",
        "print(\"Mean squared error: %.2f\" % mean_squared_error(y_test, y_pred))\n",
        "# The coefficient of determination: 1 is perfect prediction\n",
        "print(\"Coefficient of determination: %.2f\" % r2_score(y_test, y_pred))"
      ],
      "metadata": {
        "colab": {
          "base_uri": "https://localhost:8080/"
        },
        "id": "dvfZWPWHr0bA",
        "outputId": "5c2fd342-2bfd-475c-92ae-e85d3a8d2e30"
      },
      "execution_count": null,
      "outputs": [
        {
          "output_type": "stream",
          "name": "stdout",
          "text": [
            "Coefficients: \n",
            " 52.27104581509909\n",
            "Intercept: \n",
            " -13669.93725967238\n",
            "Mean squared error: 13843283.08\n",
            "Coefficient of determination: 0.79\n"
          ]
        }
      ]
    },
    {
      "cell_type": "markdown",
      "source": [
        "##grafico"
      ],
      "metadata": {
        "id": "jHQAKkTQsaMf"
      }
    },
    {
      "cell_type": "code",
      "source": [
        "import plotly.graph_objects as go"
      ],
      "metadata": {
        "id": "TxWo2hePsYOM"
      },
      "execution_count": null,
      "outputs": []
    },
    {
      "cell_type": "code",
      "source": [
        "fig = go.Figure(go.Scatter(x=dados['price'].index , y=dados['price'].values , name='Dados Reais',mode='markers'))\n",
        "fig.add_trace(go.Scatter(x=dados['price'].index , y=regr.predict(X).reshape(1,-1)[0], name='Regressão Linear'))\n",
        "\n",
        "fig.show()"
      ],
      "metadata": {
        "colab": {
          "base_uri": "https://localhost:8080/",
          "height": 542
        },
        "id": "DuxyJGkutpVQ",
        "outputId": "7a35d51a-029f-40d8-92d1-41b521f930d0"
      },
      "execution_count": null,
      "outputs": [
        {
          "output_type": "display_data",
          "data": {
            "text/html": [
              "<html>\n",
              "<head><meta charset=\"utf-8\" /></head>\n",
              "<body>\n",
              "    <div>            <script src=\"https://cdnjs.cloudflare.com/ajax/libs/mathjax/2.7.5/MathJax.js?config=TeX-AMS-MML_SVG\"></script><script type=\"text/javascript\">if (window.MathJax) {MathJax.Hub.Config({SVG: {font: \"STIX-Web\"}});}</script>                <script type=\"text/javascript\">window.PlotlyConfig = {MathJaxConfig: 'local'};</script>\n",
              "        <script src=\"https://cdn.plot.ly/plotly-2.8.3.min.js\"></script>                <div id=\"7179243f-eb69-4b60-92d5-c879a4e66a30\" class=\"plotly-graph-div\" style=\"height:525px; width:100%;\"></div>            <script type=\"text/javascript\">                                    window.PLOTLYENV=window.PLOTLYENV || {};                                    if (document.getElementById(\"7179243f-eb69-4b60-92d5-c879a4e66a30\")) {                    Plotly.newPlot(                        \"7179243f-eb69-4b60-92d5-c879a4e66a30\",                        [{\"mode\":\"markers\",\"name\":\"Dados Reais\",\"x\":[0,1,2,3,4,5,6,7,8,9,10,11,12,13,14,15,16,17,18,19,20,21,22,23,24,25,26,27,28,29,30,31,32,33,34,35,36,37,38,39,40,41,42,43,44,45,46,47,48,49,50,51,52,53,54,55,56,57,58,59,60,61,62,63,64,65,66,67,68,69,70,71,72,73,74,75,76,77,78,79,80,81,82,83,84,85,86,87,88,89,90,91,92,93,94,95,96,97,98,99,100,101,102,103,104,105,106,107,108,109,110,111,112,113,114,115,116,117,118,119,120,121,122,123,124,125,126,127,128,129,130,131,132,133,134,135,136,137,138,139,140,141,142,143,144,145,146,147,148,149,150,151,152,153,154,155,156,157,158,159,160,161,162,163,164,165,166,167,168,169,170,171,172,173,174,175,176,177,178,179,180,181,182,183,184,185,186,187,188,189,190,191,192,193,194,195,196,197,198,199,200,201,202,203,204],\"y\":[13495.0,16500.0,16500.0,13950.0,17450.0,15250.0,17710.0,18920.0,23875.0,17859.167,16430.0,16925.0,20970.0,21105.0,24565.0,30760.0,41315.0,36880.0,5151.0,6295.0,6575.0,5572.0,6377.0,7957.0,6229.0,6692.0,7609.0,8558.0,8921.0,12964.0,6479.0,6855.0,5399.0,6529.0,7129.0,7295.0,7295.0,7895.0,9095.0,8845.0,10295.0,12945.0,10345.0,6785.0,8916.5,8916.5,11048.0,32250.0,35550.0,36000.0,5195.0,6095.0,6795.0,6695.0,7395.0,10945.0,11845.0,13645.0,15645.0,8845.0,8495.0,10595.0,10245.0,10795.0,11245.0,18280.0,18344.0,25552.0,28248.0,28176.0,31600.0,34184.0,35056.0,40960.0,45400.0,16503.0,5389.0,6189.0,6669.0,7689.0,9959.0,8499.0,12629.0,14869.0,14489.0,6989.0,8189.0,9279.0,9279.0,5499.0,7099.0,6649.0,6849.0,7349.0,7299.0,7799.0,7499.0,7999.0,8249.0,8949.0,9549.0,13499.0,14399.0,13499.0,17199.0,19699.0,18399.0,11900.0,13200.0,12440.0,13860.0,15580.0,16900.0,16695.0,17075.0,16630.0,17950.0,18150.0,5572.0,7957.0,6229.0,6692.0,7609.0,8921.0,12764.0,22018.0,32528.0,34028.0,37028.0,31400.5,9295.0,9895.0,11850.0,12170.0,15040.0,15510.0,18150.0,18620.0,5118.0,7053.0,7603.0,7126.0,7775.0,9960.0,9233.0,11259.0,7463.0,10198.0,8013.0,11694.0,5348.0,6338.0,6488.0,6918.0,7898.0,8778.0,6938.0,7198.0,7898.0,7788.0,7738.0,8358.0,9258.0,8058.0,8238.0,9298.0,9538.0,8449.0,9639.0,9989.0,11199.0,11549.0,17669.0,8948.0,10698.0,9988.0,10898.0,11248.0,16558.0,15998.0,15690.0,15750.0,7775.0,7975.0,7995.0,8195.0,8495.0,9495.0,9995.0,11595.0,9980.0,13295.0,13845.0,12290.0,12940.0,13415.0,15985.0,16515.0,18420.0,18950.0,16845.0,19045.0,21485.0,22470.0,22625.0],\"type\":\"scatter\"},{\"name\":\"Regress\\u00e3o Linear\",\"x\":[0,1,2,3,4,5,6,7,8,9,10,11,12,13,14,15,16,17,18,19,20,21,22,23,24,25,26,27,28,29,30,31,32,33,34,35,36,37,38,39,40,41,42,43,44,45,46,47,48,49,50,51,52,53,54,55,56,57,58,59,60,61,62,63,64,65,66,67,68,69,70,71,72,73,74,75,76,77,78,79,80,81,82,83,84,85,86,87,88,89,90,91,92,93,94,95,96,97,98,99,100,101,102,103,104,105,106,107,108,109,110,111,112,113,114,115,116,117,118,119,120,121,122,123,124,125,126,127,128,129,130,131,132,133,134,135,136,137,138,139,140,141,142,143,144,145,146,147,148,149,150,151,152,153,154,155,156,157,158,159,160,161,162,163,164,165,166,167,168,169,170,171,172,173,174,175,176,177,178,179,180,181,182,183,184,185,186,187,188,189,190,191,192,193,194,195,196,197,198,199,200,201,202,203,204],\"y\":[13765.251051031726,13765.251051031726,19008.2228204167,10739.950235435652,15725.853234520877,14016.434757028252,15555.858462758766,16058.340977982374,17850.639804369395,18745.315966104292,10876.862202562505,10876.862202562505,17676.239483900088,17927.480741511896,19252.207372555957,26649.449265777654,27334.652695628032,27905.655553836677,366.3015019551294,5512.798230477376,5672.679030775798,5417.392184578515,5417.392184578515,8951.84801057537,5833.082265354409,5933.578768399133,5933.578768399133,9239.633451112528,11897.534193895895,18713.676767354358,4301.618625857158,5726.7078742898775,3987.685480361204,6279.438641035849,6352.527006886554,6599.20024163269,6663.15256175206,9518.005506228335,9760.110718108801,9828.631061093838,10139.25661595934,11348.148429693061,10510.177450982865,9636.969762406985,5512.798230477376,5672.679030775798,12683.82589599369,33867.04345666246,33867.04345666246,43201.318904707136,5557.106817964741,5602.787046621434,5625.627160949778,5808.348075576545,5831.188189904893,7857.034336031073,7857.034336031073,7879.874450359421,10940.035770293307,11003.246580785122,11117.447152426848,11003.246580785122,11117.447152426848,10222.770990691952,11185.967495411885,15550.612385647826,12724.068992892,22861.35412476133,23934.83949819359,22769.993667447943,24026.199955506967,29534.220141338516,29282.978883726715,37387.37531023084,36239.241827014615,19521.845393238877,5760.773771470333,5879.542365977733,6153.623737917882,9029.504399291745,11698.251944680978,10951.953460702378,18814.17327039908,19216.159282577963,19238.99939690631,11120.970306732135,11303.691221358902,11848.996699248059,11848.996699248059,6059.38372051531,6366.869885510714,6191.856383619717,6283.216840933099,6676.066807380652,6342.601138186801,6694.338898843329,6433.961595500183,6735.4511046343505,6602.978441529944,11252.596155041876,11152.099651997152,22343.290032987356,23261.462628986865,22183.409232688933,22651.82585073209,25053.29323820156,22962.451405597592,14431.940069547622,17560.33204968028,15391.224871338152,18624.6813773812,14578.63923552923,17811.573307292085,15537.924037319757,18875.922634993003,14683.18132715943,17811.573307292085,18347.292032186688,5609.249144936621,8951.84801057537,5833.082265354409,5933.578768399133,7462.417893399157,11897.534193895895,18745.65292741404,18079.578354822796,24654.547873825093,24654.547873825093,24855.540879914533,32429.196971713875,12960.692424284101,12417.097703269468,13533.60170103853,13702.618547068287,13757.434821456318,13990.403987605448,16832.357421643857,17010.510313404957,6794.835401888049,8157.066631680707,8705.229375561008,8741.706615658328,8947.26764461344,10259.723624245009,9838.03210341893,11924.895290265453,9404.069931180358,10785.046253796965,9997.912903717352,12564.418491459139,5753.205028579574,6004.446286191378,5890.245714549648,7100.771773951983,7146.452002608672,10892.230752457399,7064.4774698057445,7192.382110044484,8128.027023536459,8128.027023536459,7123.861767059447,7251.766407298186,7333.990818880229,7466.463481984632,7626.344282283055,10100.377601323034,10260.258401621457,15202.25910945157,15183.987017988893,15252.50736097393,15837.214287779589,15997.095088078011,17189.349056017665,11151.90159823143,9953.079489855325,11553.887610410318,11553.887610410318,11754.880616499766,21512.51159164005,21695.23250626682,21959.19990674328,21292.9372313881,6870.08044768756,9266.63552977331,6883.784516284566,9280.33959837032,9568.125038907478,7971.362506937956,10466.391297775692,9733.55178780392,9582.807033236833,14719.910278341307,9159.048452011943,11040.5287616655,16418.209957516025,16975.508747127664,16523.274483426416,17012.052930053018,18701.381751839363,19213.00031279431,16600.93087214279,19448.49719760726,20417.16680433018,17768.677437497605,17103.4133873664],\"type\":\"scatter\"}],                        {\"template\":{\"data\":{\"bar\":[{\"error_x\":{\"color\":\"#2a3f5f\"},\"error_y\":{\"color\":\"#2a3f5f\"},\"marker\":{\"line\":{\"color\":\"#E5ECF6\",\"width\":0.5},\"pattern\":{\"fillmode\":\"overlay\",\"size\":10,\"solidity\":0.2}},\"type\":\"bar\"}],\"barpolar\":[{\"marker\":{\"line\":{\"color\":\"#E5ECF6\",\"width\":0.5},\"pattern\":{\"fillmode\":\"overlay\",\"size\":10,\"solidity\":0.2}},\"type\":\"barpolar\"}],\"carpet\":[{\"aaxis\":{\"endlinecolor\":\"#2a3f5f\",\"gridcolor\":\"white\",\"linecolor\":\"white\",\"minorgridcolor\":\"white\",\"startlinecolor\":\"#2a3f5f\"},\"baxis\":{\"endlinecolor\":\"#2a3f5f\",\"gridcolor\":\"white\",\"linecolor\":\"white\",\"minorgridcolor\":\"white\",\"startlinecolor\":\"#2a3f5f\"},\"type\":\"carpet\"}],\"choropleth\":[{\"colorbar\":{\"outlinewidth\":0,\"ticks\":\"\"},\"type\":\"choropleth\"}],\"contour\":[{\"colorbar\":{\"outlinewidth\":0,\"ticks\":\"\"},\"colorscale\":[[0.0,\"#0d0887\"],[0.1111111111111111,\"#46039f\"],[0.2222222222222222,\"#7201a8\"],[0.3333333333333333,\"#9c179e\"],[0.4444444444444444,\"#bd3786\"],[0.5555555555555556,\"#d8576b\"],[0.6666666666666666,\"#ed7953\"],[0.7777777777777778,\"#fb9f3a\"],[0.8888888888888888,\"#fdca26\"],[1.0,\"#f0f921\"]],\"type\":\"contour\"}],\"contourcarpet\":[{\"colorbar\":{\"outlinewidth\":0,\"ticks\":\"\"},\"type\":\"contourcarpet\"}],\"heatmap\":[{\"colorbar\":{\"outlinewidth\":0,\"ticks\":\"\"},\"colorscale\":[[0.0,\"#0d0887\"],[0.1111111111111111,\"#46039f\"],[0.2222222222222222,\"#7201a8\"],[0.3333333333333333,\"#9c179e\"],[0.4444444444444444,\"#bd3786\"],[0.5555555555555556,\"#d8576b\"],[0.6666666666666666,\"#ed7953\"],[0.7777777777777778,\"#fb9f3a\"],[0.8888888888888888,\"#fdca26\"],[1.0,\"#f0f921\"]],\"type\":\"heatmap\"}],\"heatmapgl\":[{\"colorbar\":{\"outlinewidth\":0,\"ticks\":\"\"},\"colorscale\":[[0.0,\"#0d0887\"],[0.1111111111111111,\"#46039f\"],[0.2222222222222222,\"#7201a8\"],[0.3333333333333333,\"#9c179e\"],[0.4444444444444444,\"#bd3786\"],[0.5555555555555556,\"#d8576b\"],[0.6666666666666666,\"#ed7953\"],[0.7777777777777778,\"#fb9f3a\"],[0.8888888888888888,\"#fdca26\"],[1.0,\"#f0f921\"]],\"type\":\"heatmapgl\"}],\"histogram\":[{\"marker\":{\"pattern\":{\"fillmode\":\"overlay\",\"size\":10,\"solidity\":0.2}},\"type\":\"histogram\"}],\"histogram2d\":[{\"colorbar\":{\"outlinewidth\":0,\"ticks\":\"\"},\"colorscale\":[[0.0,\"#0d0887\"],[0.1111111111111111,\"#46039f\"],[0.2222222222222222,\"#7201a8\"],[0.3333333333333333,\"#9c179e\"],[0.4444444444444444,\"#bd3786\"],[0.5555555555555556,\"#d8576b\"],[0.6666666666666666,\"#ed7953\"],[0.7777777777777778,\"#fb9f3a\"],[0.8888888888888888,\"#fdca26\"],[1.0,\"#f0f921\"]],\"type\":\"histogram2d\"}],\"histogram2dcontour\":[{\"colorbar\":{\"outlinewidth\":0,\"ticks\":\"\"},\"colorscale\":[[0.0,\"#0d0887\"],[0.1111111111111111,\"#46039f\"],[0.2222222222222222,\"#7201a8\"],[0.3333333333333333,\"#9c179e\"],[0.4444444444444444,\"#bd3786\"],[0.5555555555555556,\"#d8576b\"],[0.6666666666666666,\"#ed7953\"],[0.7777777777777778,\"#fb9f3a\"],[0.8888888888888888,\"#fdca26\"],[1.0,\"#f0f921\"]],\"type\":\"histogram2dcontour\"}],\"mesh3d\":[{\"colorbar\":{\"outlinewidth\":0,\"ticks\":\"\"},\"type\":\"mesh3d\"}],\"parcoords\":[{\"line\":{\"colorbar\":{\"outlinewidth\":0,\"ticks\":\"\"}},\"type\":\"parcoords\"}],\"pie\":[{\"automargin\":true,\"type\":\"pie\"}],\"scatter\":[{\"marker\":{\"colorbar\":{\"outlinewidth\":0,\"ticks\":\"\"}},\"type\":\"scatter\"}],\"scatter3d\":[{\"line\":{\"colorbar\":{\"outlinewidth\":0,\"ticks\":\"\"}},\"marker\":{\"colorbar\":{\"outlinewidth\":0,\"ticks\":\"\"}},\"type\":\"scatter3d\"}],\"scattercarpet\":[{\"marker\":{\"colorbar\":{\"outlinewidth\":0,\"ticks\":\"\"}},\"type\":\"scattercarpet\"}],\"scattergeo\":[{\"marker\":{\"colorbar\":{\"outlinewidth\":0,\"ticks\":\"\"}},\"type\":\"scattergeo\"}],\"scattergl\":[{\"marker\":{\"colorbar\":{\"outlinewidth\":0,\"ticks\":\"\"}},\"type\":\"scattergl\"}],\"scattermapbox\":[{\"marker\":{\"colorbar\":{\"outlinewidth\":0,\"ticks\":\"\"}},\"type\":\"scattermapbox\"}],\"scatterpolar\":[{\"marker\":{\"colorbar\":{\"outlinewidth\":0,\"ticks\":\"\"}},\"type\":\"scatterpolar\"}],\"scatterpolargl\":[{\"marker\":{\"colorbar\":{\"outlinewidth\":0,\"ticks\":\"\"}},\"type\":\"scatterpolargl\"}],\"scatterternary\":[{\"marker\":{\"colorbar\":{\"outlinewidth\":0,\"ticks\":\"\"}},\"type\":\"scatterternary\"}],\"surface\":[{\"colorbar\":{\"outlinewidth\":0,\"ticks\":\"\"},\"colorscale\":[[0.0,\"#0d0887\"],[0.1111111111111111,\"#46039f\"],[0.2222222222222222,\"#7201a8\"],[0.3333333333333333,\"#9c179e\"],[0.4444444444444444,\"#bd3786\"],[0.5555555555555556,\"#d8576b\"],[0.6666666666666666,\"#ed7953\"],[0.7777777777777778,\"#fb9f3a\"],[0.8888888888888888,\"#fdca26\"],[1.0,\"#f0f921\"]],\"type\":\"surface\"}],\"table\":[{\"cells\":{\"fill\":{\"color\":\"#EBF0F8\"},\"line\":{\"color\":\"white\"}},\"header\":{\"fill\":{\"color\":\"#C8D4E3\"},\"line\":{\"color\":\"white\"}},\"type\":\"table\"}]},\"layout\":{\"annotationdefaults\":{\"arrowcolor\":\"#2a3f5f\",\"arrowhead\":0,\"arrowwidth\":1},\"autotypenumbers\":\"strict\",\"coloraxis\":{\"colorbar\":{\"outlinewidth\":0,\"ticks\":\"\"}},\"colorscale\":{\"diverging\":[[0,\"#8e0152\"],[0.1,\"#c51b7d\"],[0.2,\"#de77ae\"],[0.3,\"#f1b6da\"],[0.4,\"#fde0ef\"],[0.5,\"#f7f7f7\"],[0.6,\"#e6f5d0\"],[0.7,\"#b8e186\"],[0.8,\"#7fbc41\"],[0.9,\"#4d9221\"],[1,\"#276419\"]],\"sequential\":[[0.0,\"#0d0887\"],[0.1111111111111111,\"#46039f\"],[0.2222222222222222,\"#7201a8\"],[0.3333333333333333,\"#9c179e\"],[0.4444444444444444,\"#bd3786\"],[0.5555555555555556,\"#d8576b\"],[0.6666666666666666,\"#ed7953\"],[0.7777777777777778,\"#fb9f3a\"],[0.8888888888888888,\"#fdca26\"],[1.0,\"#f0f921\"]],\"sequentialminus\":[[0.0,\"#0d0887\"],[0.1111111111111111,\"#46039f\"],[0.2222222222222222,\"#7201a8\"],[0.3333333333333333,\"#9c179e\"],[0.4444444444444444,\"#bd3786\"],[0.5555555555555556,\"#d8576b\"],[0.6666666666666666,\"#ed7953\"],[0.7777777777777778,\"#fb9f3a\"],[0.8888888888888888,\"#fdca26\"],[1.0,\"#f0f921\"]]},\"colorway\":[\"#636efa\",\"#EF553B\",\"#00cc96\",\"#ab63fa\",\"#FFA15A\",\"#19d3f3\",\"#FF6692\",\"#B6E880\",\"#FF97FF\",\"#FECB52\"],\"font\":{\"color\":\"#2a3f5f\"},\"geo\":{\"bgcolor\":\"white\",\"lakecolor\":\"white\",\"landcolor\":\"#E5ECF6\",\"showlakes\":true,\"showland\":true,\"subunitcolor\":\"white\"},\"hoverlabel\":{\"align\":\"left\"},\"hovermode\":\"closest\",\"mapbox\":{\"style\":\"light\"},\"paper_bgcolor\":\"white\",\"plot_bgcolor\":\"#E5ECF6\",\"polar\":{\"angularaxis\":{\"gridcolor\":\"white\",\"linecolor\":\"white\",\"ticks\":\"\"},\"bgcolor\":\"#E5ECF6\",\"radialaxis\":{\"gridcolor\":\"white\",\"linecolor\":\"white\",\"ticks\":\"\"}},\"scene\":{\"xaxis\":{\"backgroundcolor\":\"#E5ECF6\",\"gridcolor\":\"white\",\"gridwidth\":2,\"linecolor\":\"white\",\"showbackground\":true,\"ticks\":\"\",\"zerolinecolor\":\"white\"},\"yaxis\":{\"backgroundcolor\":\"#E5ECF6\",\"gridcolor\":\"white\",\"gridwidth\":2,\"linecolor\":\"white\",\"showbackground\":true,\"ticks\":\"\",\"zerolinecolor\":\"white\"},\"zaxis\":{\"backgroundcolor\":\"#E5ECF6\",\"gridcolor\":\"white\",\"gridwidth\":2,\"linecolor\":\"white\",\"showbackground\":true,\"ticks\":\"\",\"zerolinecolor\":\"white\"}},\"shapedefaults\":{\"line\":{\"color\":\"#2a3f5f\"}},\"ternary\":{\"aaxis\":{\"gridcolor\":\"white\",\"linecolor\":\"white\",\"ticks\":\"\"},\"baxis\":{\"gridcolor\":\"white\",\"linecolor\":\"white\",\"ticks\":\"\"},\"bgcolor\":\"#E5ECF6\",\"caxis\":{\"gridcolor\":\"white\",\"linecolor\":\"white\",\"ticks\":\"\"}},\"title\":{\"x\":0.05},\"xaxis\":{\"automargin\":true,\"gridcolor\":\"white\",\"linecolor\":\"white\",\"ticks\":\"\",\"title\":{\"standoff\":15},\"zerolinecolor\":\"white\",\"zerolinewidth\":2},\"yaxis\":{\"automargin\":true,\"gridcolor\":\"white\",\"linecolor\":\"white\",\"ticks\":\"\",\"title\":{\"standoff\":15},\"zerolinecolor\":\"white\",\"zerolinewidth\":2}}}},                        {\"responsive\": true}                    ).then(function(){\n",
              "                            \n",
              "var gd = document.getElementById('7179243f-eb69-4b60-92d5-c879a4e66a30');\n",
              "var x = new MutationObserver(function (mutations, observer) {{\n",
              "        var display = window.getComputedStyle(gd).display;\n",
              "        if (!display || display === 'none') {{\n",
              "            console.log([gd, 'removed!']);\n",
              "            Plotly.purge(gd);\n",
              "            observer.disconnect();\n",
              "        }}\n",
              "}});\n",
              "\n",
              "// Listen for the removal of the full notebook cells\n",
              "var notebookContainer = gd.closest('#notebook-container');\n",
              "if (notebookContainer) {{\n",
              "    x.observe(notebookContainer, {childList: true});\n",
              "}}\n",
              "\n",
              "// Listen for the clearing of the current output cell\n",
              "var outputEl = gd.closest('.output');\n",
              "if (outputEl) {{\n",
              "    x.observe(outputEl, {childList: true});\n",
              "}}\n",
              "\n",
              "                        })                };                            </script>        </div>\n",
              "</body>\n",
              "</html>"
            ]
          },
          "metadata": {}
        }
      ]
    },
    {
      "cell_type": "markdown",
      "source": [
        "**CARACA QUE MANEIRO**"
      ],
      "metadata": {
        "id": "r9qu0sU9uS1r"
      }
    }
  ]
}